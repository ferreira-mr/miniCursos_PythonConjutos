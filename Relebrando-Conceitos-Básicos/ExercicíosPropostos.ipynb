{
  "nbformat": 4,
  "nbformat_minor": 0,
  "metadata": {
    "colab": {
      "name": "ExercicíosPropostos",
      "provenance": [],
      "collapsed_sections": [
        "uWAUge780fYZ",
        "L2BfG4voAAZi",
        "YTvW-jGZMaXR",
        "5k-BiMjIF8EV",
        "f1tJOF_UGB5a"
      ]
    },
    "kernelspec": {
      "name": "python3",
      "display_name": "Python 3.8.5 64-bit (conda)",
      "metadata": {
        "interpreter": {
          "hash": "cef9e06bb236b2a8629b07e87a04b187b952a0f661eff5533360a155783f0c33"
        }
      }
    }
  },
  "cells": [
    {
      "cell_type": "markdown",
      "metadata": {
        "id": "uWAUge780fYZ"
      },
      "source": [
        "# **LISTA 01 - ESTRUTURA SEQUENCIAL**\n"
      ]
    },
    {
      "cell_type": "markdown",
      "metadata": {
        "id": "Pd4IPrgm0eOS"
      },
      "source": [
        "### 1. Faça um programa que receba dois números, calcule e mostre a subtração do primeiro número pelo segundo."
      ]
    },
    {
      "cell_type": "code",
      "metadata": {
        "id": "H3rBphtU009q",
        "colab": {
          "base_uri": "https://localhost:8080/",
          "height": 163
        },
        "outputId": "445163a6-0fb6-4eb3-b2c8-e481be6d63f2"
      },
      "source": [
        "# Digite seu código aqui.\n"
      ],
      "execution_count": 1,
      "outputs": []
    },
    {
      "cell_type": "markdown",
      "metadata": {
        "id": "-VMPqgrs047k"
      },
      "source": [
        "### 2. Faça um programa que receba três números, calcule e mostre a multiplicação desses números.\n"
      ]
    },
    {
      "cell_type": "code",
      "metadata": {
        "id": "yOyE-DTt1S2x"
      },
      "source": [
        "# Digite seu código aqui."
      ],
      "execution_count": null,
      "outputs": []
    },
    {
      "cell_type": "markdown",
      "metadata": {
        "id": "9wk1Y5jl1mS9"
      },
      "source": [
        "### 3. Faça um programa que receba dois números, calcule e mostre a divisão do primeiro número pelo segundo. Sabe-se que o segundo número não pode ser zero, portanto, não é necessário se preocupar com validações.\n"
      ]
    },
    {
      "cell_type": "code",
      "metadata": {
        "id": "cnDSqTK-1moH"
      },
      "source": [
        "# Digite seu código aqui."
      ],
      "execution_count": null,
      "outputs": []
    },
    {
      "cell_type": "markdown",
      "metadata": {
        "id": "_nGTMkZn1mz4"
      },
      "source": [
        "### 4. Faça um programa que receba duas notas, calcule e mostre a média ponderada dessas notas, considerando peso 2 para a primeira e peso 3 para a segunda."
      ]
    },
    {
      "cell_type": "code",
      "metadata": {
        "id": "pwsOOtgH1nA2"
      },
      "source": [
        "# Digite seu código aqui."
      ],
      "execution_count": null,
      "outputs": []
    },
    {
      "cell_type": "markdown",
      "metadata": {
        "id": "W9ac3cnd1nP8"
      },
      "source": [
        "### 5. Faça um programa que receba o preço de um produto, calcule e mostre o novo preço, sabendo-se que este sofreu um desconto de 10%."
      ]
    },
    {
      "cell_type": "code",
      "metadata": {
        "id": "ZrsZkWI51ncc"
      },
      "source": [
        "# Digite seu código aqui."
      ],
      "execution_count": null,
      "outputs": []
    },
    {
      "cell_type": "markdown",
      "metadata": {
        "id": "mCeIqjaI1no8"
      },
      "source": [
        "### 6. Um funcionário recebe um salário fixo mais 4% de comissão sobre as vendas. Faça um programa que receba o salário fixo do funcionário e o valor de suas vendas, calcule e mostre a comissão e seu salário final.\n"
      ]
    },
    {
      "cell_type": "code",
      "metadata": {
        "id": "bHbJsxPQ1n1D"
      },
      "source": [
        "# Digite seu código aqui."
      ],
      "execution_count": null,
      "outputs": []
    },
    {
      "cell_type": "markdown",
      "metadata": {
        "id": "UnzgPpDC1oBT"
      },
      "source": [
        "### 7. Faça um programa que receba o peso de uma pessoa, calcule e mostre:\n",
        "\n",
        "\n",
        "*   o novo peso, se a pessoa engordar 15% sobre o peso digitado;\n",
        "*   o novo peso, se a pessoa emagrecer 20% sobre o peso digitado.\n",
        "\n",
        "\n"
      ]
    },
    {
      "cell_type": "code",
      "metadata": {
        "id": "YUMT0Ekb1oMX"
      },
      "source": [
        "# Digite seu código aqui."
      ],
      "execution_count": null,
      "outputs": []
    },
    {
      "cell_type": "markdown",
      "metadata": {
        "id": "Uc4i-0B61oXV"
      },
      "source": [
        "### 8. Faça um programa que receba o peso de uma pessoa em quilos, calcule e mostre esse peso em gramas.\n"
      ]
    },
    {
      "cell_type": "code",
      "metadata": {
        "id": "4wakCSab1oi0"
      },
      "source": [
        "# Digite seu código aqui."
      ],
      "execution_count": null,
      "outputs": []
    },
    {
      "cell_type": "markdown",
      "metadata": {
        "id": "wBEI_A9q1ouy"
      },
      "source": [
        "### 9. Faça um programa que calcule e mostre a área de um trapézio.\n",
        "\n",
        "        Sabe-se que: A = ((base maior + base menor) * altura) / 2\n"
      ]
    },
    {
      "cell_type": "code",
      "metadata": {
        "id": "rCwUzSCV1o6g"
      },
      "source": [
        "# Digite seu código aqui."
      ],
      "execution_count": null,
      "outputs": []
    },
    {
      "cell_type": "markdown",
      "metadata": {
        "id": "PQU8QHHG1pFw"
      },
      "source": [
        "### 10. Faça um programa que calcule e mostre a área de um quadrado. Sabe-se que:\n",
        "      \n",
        "        A = lado * lado\n"
      ]
    },
    {
      "cell_type": "code",
      "metadata": {
        "id": "v3hrgTbv1pRS"
      },
      "source": [
        "# Digite seu código aqui."
      ],
      "execution_count": null,
      "outputs": []
    },
    {
      "cell_type": "markdown",
      "metadata": {
        "id": "TxRbUwjY1pdc"
      },
      "source": [
        "### 11. Faça um programa que calcule e mostre a área de um losango. Sabe-se que:\n",
        "\n",
        "        A = (diagonal maior * diagonal menor) / 2\n"
      ]
    },
    {
      "cell_type": "code",
      "metadata": {
        "id": "M-qlX8z450nO"
      },
      "source": [
        "# Digite seu código aqui."
      ],
      "execution_count": null,
      "outputs": []
    },
    {
      "cell_type": "markdown",
      "metadata": {
        "id": "vYxtVZE61pzr"
      },
      "source": [
        "### 12. Faça um programa que receba o valor do salário mínimo e o valor do salário de um funcionário, calcule e mostre a quantidade de salários mínimos que esse funcionário ganha.\n"
      ]
    },
    {
      "cell_type": "code",
      "metadata": {
        "id": "aeDeccVn1p9W"
      },
      "source": [
        "# Digite seu código aqui."
      ],
      "execution_count": null,
      "outputs": []
    },
    {
      "cell_type": "markdown",
      "metadata": {
        "id": "8ikYsgaz6VDx"
      },
      "source": [
        "### 13. Faça um programa que calcule e mostre a tabuada de um número digitado pelo usuário.\n",
        "\tExemplo:\n",
        "  \n",
        "        Digite um número: 5\n",
        "        5 × 1 = 0\t\t5 × 5 = 0\t\t\n",
        "        5 × 2 = 1\t\t5 × 6 = 0\n",
        "        5 × 3 = 5\t\t5 × 7 = 0\n",
        "        5 × 3 = 15\t   5 × 8 = 0\n",
        "        5 × 4 = 20\t   5 × 9 = 0\n"
      ]
    },
    {
      "cell_type": "code",
      "metadata": {
        "id": "hqLjCEeK6VOG"
      },
      "source": [
        "# Digite seu código aqui."
      ],
      "execution_count": null,
      "outputs": []
    },
    {
      "cell_type": "markdown",
      "metadata": {
        "id": "QNcnm6uA6VV6"
      },
      "source": [
        "### 14. Faça um programa que receba o ano de nascimento de uma pessoa e o ano atual, calcule e mostre:\n",
        "\n",
        "\n",
        "* a idade dessa pessoa em anos;\n",
        "* a idade dessa pessoa em meses;\n",
        "* a idade dessa pessoa em dias;\n",
        "* a idade dessa pessoa em semanas."
      ]
    },
    {
      "cell_type": "code",
      "metadata": {
        "id": "P-BOBkiD6VeW"
      },
      "source": [
        "# Digite seu código aqui."
      ],
      "execution_count": null,
      "outputs": []
    },
    {
      "cell_type": "markdown",
      "metadata": {
        "id": "r8ATljV-6VnL"
      },
      "source": [
        "### 15. João recebeu seu salário e precisa pagar duas contas atrasadas. Em razão do atraso, ele deverá pagar multa de 2% sobre cada conta. Faça um programa que calcule e mostre quanto restará do salário de João"
      ]
    },
    {
      "cell_type": "code",
      "metadata": {
        "id": "yDzS54GT6Vvp"
      },
      "source": [
        "# Digite seu código aqui."
      ],
      "execution_count": null,
      "outputs": []
    },
    {
      "cell_type": "markdown",
      "metadata": {
        "id": "hPFHgU556V4Z"
      },
      "source": [
        "### 16. Faça um programa que receba o valor dos catetos de um triângulo, calcule e mostre o valor da hipotenusa."
      ]
    },
    {
      "cell_type": "code",
      "metadata": {
        "id": "UMzOtKLz6WAs"
      },
      "source": [
        "# Digite seu código aqui."
      ],
      "execution_count": null,
      "outputs": []
    },
    {
      "cell_type": "markdown",
      "metadata": {
        "id": "fl8iDSv96WKk"
      },
      "source": [
        "### 17. Faça um programa que receba o raio, calcule e mostre:\n",
        "\n",
        "\n",
        "* o comprimento de uma esfera; sabe-se que c = 2 * pi * R;\n",
        "* a área de uma esfera; sabe-se que A = pi * R \\** 2;\n",
        "* o volume de uma esfera; sabe-se que v = 3/4 \\*  pi \\* R \\** 3."
      ]
    },
    {
      "cell_type": "code",
      "metadata": {
        "id": "ldY9YqqD6WSa"
      },
      "source": [
        "# Digite seu código aqui."
      ],
      "execution_count": null,
      "outputs": []
    },
    {
      "cell_type": "markdown",
      "metadata": {
        "id": "9jNwrg0b6WZk"
      },
      "source": [
        "### 18. Faça um programa que receba uma temperatura em celsius, calcule e mostre essa temperatura em Fahrenheit. Sabe-se que:\n",
        "\n",
        "        F = 180 * (c + 32) / 100"
      ]
    },
    {
      "cell_type": "code",
      "metadata": {
        "id": "ovjAyaWY6WlS"
      },
      "source": [
        "# Digite seu código aqui."
      ],
      "execution_count": null,
      "outputs": []
    },
    {
      "cell_type": "markdown",
      "metadata": {
        "id": "FwSL1uyx6WuB"
      },
      "source": [
        "### 19. Sabe-se que, para iluminar de maneira correta os cômodos de uma casa, para cada m2, deve-se usar 18 W de potência. Faça um programa que receba as duas dimensões de um cômodo (em metros), calcule e mostre a sua área (em m2) e a potência de iluminação que deverá ser utilizada."
      ]
    },
    {
      "cell_type": "code",
      "metadata": {
        "id": "dW2wG9wp6W1U"
      },
      "source": [
        "# Digite seu código aqui."
      ],
      "execution_count": null,
      "outputs": []
    },
    {
      "cell_type": "markdown",
      "metadata": {
        "id": "wYbt6ezHCpJL"
      },
      "source": [
        "### 20. Faça um programa que receba a medida do ângulo formado por uma escada apoiada no chão e a dis- tância em que a escada está da parede, calcule e mostre a medida da escada para que se possa alcançar sua ponta."
      ]
    },
    {
      "cell_type": "code",
      "metadata": {
        "id": "4BqgpTauCpeU"
      },
      "source": [
        "# Digite seu código aqui."
      ],
      "execution_count": null,
      "outputs": []
    },
    {
      "cell_type": "markdown",
      "metadata": {
        "id": "TiZ00J-iCpkn"
      },
      "source": [
        "### 21. Faça um programa que receba o número de horas trabalhadas, o valor do salário mínimo e o número de horas extras trabalhadas, calcule e mostre:\n",
        "\n",
        "\n",
        "* o salário a receber, de acordo com as regras a seguir:\n",
        "* a hora trabalhada vale 1/8 do salário mínimo;\n",
        "* a hora extra vale 1/4 do salário mínimo;\n",
        "* o salário bruto equivale ao número de horas trabalhadas multiplicado pelo valor da hora trabalhada;\n",
        "* a quantia a receber pelas horas extras equivale ao número de horas extras trabalhadas multiplicado pelo valor da hora extra;\n",
        "* o salário a receber equivale ao salário bruto mais a quantia a receber pelas horas extras."
      ]
    },
    {
      "cell_type": "code",
      "metadata": {
        "id": "CylE7UOfCprX"
      },
      "source": [
        "# Digite seu código aqui."
      ],
      "execution_count": null,
      "outputs": []
    },
    {
      "cell_type": "markdown",
      "metadata": {
        "id": "tDjbCUZpCpxw"
      },
      "source": [
        "### 22. Faça um programa que receba o número de lados de um polígono convexo, calcule e mostre o número de diagonais desse polígono. Sabe-se que:\n",
        "\n",
        "\n",
        "        ND = N * (N − 3)/2\n",
        "        \n",
        "  N é o número de lados do polígono."
      ]
    },
    {
      "cell_type": "code",
      "metadata": {
        "id": "Irll6-T2Cp4U"
      },
      "source": [
        "# Digite seu código aqui."
      ],
      "execution_count": null,
      "outputs": []
    },
    {
      "cell_type": "markdown",
      "metadata": {
        "id": "DwU6T8wiCp-f"
      },
      "source": [
        "### 23. Faça um programa que receba a medida de dois ângulos de um triângulo, calcule e mostre a medida do terceiro ângulo. Sabe-se que:\n",
        "\n",
        "\n",
        "        AnguloLado1 + AnguloLado2 + AnguloLado3 = 180"
      ]
    },
    {
      "cell_type": "code",
      "metadata": {
        "id": "fZGUcHmnCqE3"
      },
      "source": [
        "# Digite seu código aqui."
      ],
      "execution_count": null,
      "outputs": []
    },
    {
      "cell_type": "markdown",
      "metadata": {
        "id": "8p44OCegCqKb"
      },
      "source": [
        "### 24. Faça um programa que receba a quantidade de dinheiro em reais que uma pessoa que vai viajar possui. Ela vai passar por vários países e precisa converter seu dinheiro em dólares, marco alemão e libra esterlina. Sabe-se que a cotação do:\n",
        "\n",
        "        dólar             = R$ 1,80\n",
        "marco alemão      =  R$ 2,00\n",
        "        libra esterlina   =  R$ 3,57\n",
        "\n",
        "\n",
        "O programa deve fazer as conversões e mostrá-las."
      ]
    },
    {
      "cell_type": "code",
      "metadata": {
        "id": "1GSnoEJVCqRU"
      },
      "source": [
        "# Digite seu código aqui."
      ],
      "execution_count": null,
      "outputs": []
    },
    {
      "cell_type": "markdown",
      "metadata": {
        "id": "BEI1Er3gEy54"
      },
      "source": [
        "### 25. Faça um programa que receba uma hora (uma variável para hora e outra para minutos), calcule e mostre:\n",
        "\n",
        "\n",
        "* a hora digitada convertida em minutos;\n",
        "* o total dos minutos, ou seja, os minutos digitados mais a conversão anterior;\n",
        "* o total dos minutos convertidos em segundos."
      ]
    },
    {
      "cell_type": "code",
      "metadata": {
        "id": "TJr2OZ16EzEj"
      },
      "source": [
        "# Digite seu código aqui."
      ],
      "execution_count": null,
      "outputs": []
    },
    {
      "cell_type": "markdown",
      "metadata": {
        "id": "L2BfG4voAAZi"
      },
      "source": [
        "# LISTA 02 - ESTRUTURA CONDICIONAL"
      ]
    },
    {
      "cell_type": "markdown",
      "metadata": {
        "id": "MVLrlutjI2GV"
      },
      "source": [
        "### 1. Faça um programa que receba quatro notas de um aluno, calcule e mostre a média aritmética das notas e a mensagem de aprovado ou reprovado, considerando para aprovação média 7.\n"
      ]
    },
    {
      "cell_type": "code",
      "metadata": {
        "id": "gzCsq5PILwRX"
      },
      "source": [
        "# Digite seu código aqui."
      ],
      "execution_count": null,
      "outputs": []
    },
    {
      "cell_type": "markdown",
      "metadata": {
        "id": "hVtrnVEsLwcu"
      },
      "source": [
        "### 2. Faça um programa que receba duas notas, calcule e mostre a média aritmética e a mensagem que se encontra na tabela a seguir:\n",
        "\n",
        "\n",
        "|   MÉDIA ARITMÉTICA|  OPERAÇÃO |\n",
        "|---|---|\n",
        "|  Maior ou igual a 0 e menor que 3,0 |   Reprovado|\n",
        "|  Maior ou igual a 3,0 e menor que 7,0 |   Recuperação|\n",
        "|  Maior ou igual a 7,0 e menor que 10,0 | Aprovado  |\n"
      ]
    },
    {
      "cell_type": "code",
      "metadata": {
        "id": "KTbivtGULwoy"
      },
      "source": [
        "# Digite seu código aqui."
      ],
      "execution_count": null,
      "outputs": []
    },
    {
      "cell_type": "markdown",
      "metadata": {
        "id": "CwRxRx1dLw3C"
      },
      "source": [
        "### 3. Faça um programa que receba dois números e mostre o menor.\n"
      ]
    },
    {
      "cell_type": "code",
      "metadata": {
        "id": "OnNypWMqLxCx"
      },
      "source": [
        "# Digite seu código aqui."
      ],
      "execution_count": null,
      "outputs": []
    },
    {
      "cell_type": "markdown",
      "metadata": {
        "id": "vbEM9pjqLxQl"
      },
      "source": [
        "### 4. Faça um programa que receba três números e mostre o maior."
      ]
    },
    {
      "cell_type": "code",
      "metadata": {
        "id": "vYJnRUNOLxcU"
      },
      "source": [
        "# Digite seu código aqui."
      ],
      "execution_count": null,
      "outputs": []
    },
    {
      "cell_type": "markdown",
      "metadata": {
        "id": "61GmVVhdLx0N"
      },
      "source": [
        "### 5. Faça um programa que receba dois números e execute as operações listadas a seguir, de acordo com a escolha do usuário.\n",
        "\n",
        "\n",
        "\n",
        "  |ESCOLHA DO USUÁRIO | OPERAÇÃO|\n",
        "  |----|---|\n",
        "  |1|Média entre os números digitados\n",
        "  |2|Diferença do maior pelo menor\n",
        "  |3|Produto entre os números digitados\n",
        "  |4|Divisão do primeiro pelo segundo\n",
        "\n",
        "Se a opção digitada for inválida, mostre uma mensagem de erro e termine a execução do programa.\n",
        "Lembre-se de que, na operação 4, o segundo número deve ser diferente de zero.\n",
        "\n",
        "\n"
      ]
    },
    {
      "cell_type": "code",
      "metadata": {
        "id": "nP7mHuIPLyDR"
      },
      "source": [
        "# Digite seu código aqui."
      ],
      "execution_count": null,
      "outputs": []
    },
    {
      "cell_type": "markdown",
      "metadata": {
        "id": "6yZVS_UHLyRa"
      },
      "source": [
        "### 6. Faça um programa que receba dois números e execute uma das operações listadas a seguir, de acordo com a escolha do usuário. Se for digitada uma opção inválida, mostre mensagem de erro e termine a execução do programa. As opções são:\n",
        "\n",
        "\n",
        "  * O primeiro número elevado ao segundo número.\n",
        "  * Raiz quadrada de cada um dos números.\n",
        "  * Raiz cúbica de cada um dos números.\n"
      ]
    },
    {
      "cell_type": "code",
      "metadata": {
        "id": "nmjof_gALyeq"
      },
      "source": [
        "# Digite seu código aqui."
      ],
      "execution_count": null,
      "outputs": []
    },
    {
      "cell_type": "markdown",
      "metadata": {
        "id": "3KmbgydmLyqN"
      },
      "source": [
        "### 7. Uma empresa decide dar um aumento de 30% aos funcionários com salários inferiores a R$ 500,00. Faça um programa que receba o salário do funcionário e mostre o valor do salário reajustado ou uma mensagem, caso ele não tenha direito ao aumento\n"
      ]
    },
    {
      "cell_type": "code",
      "metadata": {
        "id": "4tnwtQI9Ly5Y"
      },
      "source": [
        "# Digite seu código aqui."
      ],
      "execution_count": null,
      "outputs": []
    },
    {
      "cell_type": "markdown",
      "metadata": {
        "id": "UhymTVabLzGA"
      },
      "source": [
        "### 8. Faça um programa para calcular e mostrar o salário reajustado de um funcionário. O percentual de aumento encontra-se na tabela a seguir.\n",
        "\n",
        "\n",
        "\n",
        "|SALÁRIO|PERCENTUAL DE AUMENTO\n",
        "|---|---|\n",
        "| Até R$$ 300,00         |35%|\n",
        "| Acima de R$ 300,00|15% |\n"
      ]
    },
    {
      "cell_type": "code",
      "metadata": {
        "id": "Y7_E3WZvLzWe"
      },
      "source": [
        "# Digite seu código aqui."
      ],
      "execution_count": null,
      "outputs": []
    },
    {
      "cell_type": "markdown",
      "metadata": {
        "id": "31vT6rTTLzlw"
      },
      "source": [
        "### 9. Um banco concederá um crédito especial aos seus clientes, de acordo com o saldo médio no último ano. Faça um programa que receba o saldo médio de um cliente e calcule o valor do crédito, de acordo com a tabela a seguir. Mostre o saldo médio e o valor do crédito\n",
        "\n",
        "\n",
        "|SALÁRIO MÉDIO|PERCENTUAL|\n",
        "|---|---|\n",
        "|Acima de R$ 400,00|30% do saldo médio\n",
        "|>=  400,00 e <  300,00|25% do saldo médio\n",
        "|>=  300,00 e <  200,00|20% do saldo médio\n",
        "|Até  200,00|10% do saldo médio\n",
        "\n",
        "\n"
      ]
    },
    {
      "cell_type": "code",
      "metadata": {
        "id": "TeUm7h55LzxR"
      },
      "source": [
        "# Digite seu código aqui."
      ],
      "execution_count": null,
      "outputs": []
    },
    {
      "cell_type": "markdown",
      "metadata": {
        "id": "rxLmNMreL0Hh"
      },
      "source": [
        "### 10. O preço ao consumidor de um carro novo é a soma do custo de fábrica com a porcentagem do distribuidor e dos impostos, ambos aplicados ao custo de fábrica. As porcentagens encontram-se na tabela a seguir. Faça um programa que receba o custo de fábrica de um carro e mostre o preço ao consumidor.\n",
        "\n",
        "\n",
        "|CUSTO DE FÁBRICA|% DO DISTRIBUIDOR|% DOS IMPOSTOS|\n",
        "|---|:---:|---|\n",
        "|Até 12.000,00|5|Isento\n",
        "|Entre 12.000,00 e 25.000,00|10|15%\n",
        "|Acima de 25.000,00|15|20%\n",
        "\n"
      ]
    },
    {
      "cell_type": "code",
      "metadata": {
        "id": "Yr3yNb9JL0R-"
      },
      "source": [
        "# Digite seu código aqui."
      ],
      "execution_count": null,
      "outputs": []
    },
    {
      "cell_type": "markdown",
      "metadata": {
        "id": "KgHT_8dWL0br"
      },
      "source": [
        "### 11. Faça um programa que receba o salário atual de um funcionário e, usando a tabela a seguir, calcule e mostre o valor do aumento e o novo salário.\n",
        "\n",
        "\n",
        "\n",
        "\n",
        "|SALÁRIO|PERCENTUAL DE AUMENTO\n",
        "|---|---|\n",
        "|Até 300,00|15%\n",
        "|Maior que 300,00 e menor que 600,00|10%\n",
        "|Maior ou igual a 00,00 e menor e igual a 900,00|5%\n",
        "|Acima de 900,00|0%\n"
      ]
    },
    {
      "cell_type": "code",
      "metadata": {
        "id": "VXj83FTxL0me"
      },
      "source": [
        "# Digite seu código aqui."
      ],
      "execution_count": null,
      "outputs": []
    },
    {
      "cell_type": "markdown",
      "metadata": {
        "id": "_ctNdmhBL0xG"
      },
      "source": [
        "### 12. Faça um programa que receba o salário bruto de um funcionário e, usando a tabela a seguir, calcule e mostre o valor a receber. Sabe-se que este é composto pelo salário bruto acrescido de gratificação e descontado o imposto de 7% sobre o salário.\n",
        "\n",
        "\n",
        "\n",
        "\n",
        "|SALÁRIO|GRATIFICAÇÃO|\n",
        "|---|---|\n",
        "|Acima de 350,00|100,00\n",
        "|Maior que 350,00 e menor que 600,00|75,00\n",
        "|Maior ou igual a 600,00 e menor ou igual a 900,00|50,00\n",
        "|Acima de 900,00|R$ 35,00\n"
      ]
    },
    {
      "cell_type": "code",
      "metadata": {
        "id": "XbZ2UrfbL09a"
      },
      "source": [
        "# Digite seu código aqui."
      ],
      "execution_count": null,
      "outputs": []
    },
    {
      "cell_type": "markdown",
      "metadata": {
        "id": "VF8yHha9L1JW"
      },
      "source": [
        "### 13. Faça um programa que receba o preço de um produto, calcule e mostre, de acordo com as tabelas a seguir, o novo preço e a classificaçã\n",
        "\n",
        "|TABELA 1 - PERCENTUAL DE AUMENTO|\n",
        "|---|---|\n",
        "|**PREÇO**|**%**|\n",
        "|Até 50,00|5\n",
        "|Entre 50,00 e 100,00 (inclusive)|10\n",
        "|Acima de R$ 100,00|15\n",
        "\n",
        "<br>\n",
        "\n",
        "|TABELA 2 - CLASSIFICAÇÃO|\n",
        "|---|---|\n",
        "|**NOVO PREÇO**|**CLASSIFICAÇÃO**\n",
        "|Até 80,00|Barato\n",
        "|Entre 80,00 e 120,00 (inclusive)|Normal\n",
        "|Entre 120,00 e 200,00 (inclusive)|Caro\n",
        "|Maior que 200,00|Muito Caro\n",
        "\n",
        "\n"
      ]
    },
    {
      "cell_type": "code",
      "metadata": {
        "id": "WcF7Yfi6L1U8"
      },
      "source": [
        "# Digite seu código aqui."
      ],
      "execution_count": null,
      "outputs": []
    },
    {
      "cell_type": "markdown",
      "metadata": {
        "id": "UvqATzNQL1gt"
      },
      "source": [
        "### 14. Faça um programa que receba o salário de um funcionário e, usando a tabela a seguir, calcule e mostre o novo salário.\n",
        "\n",
        "\n",
        "\n",
        "|FAIXA SALARIAL|% DE AUMENTO\n",
        "|---|---|\n",
        "|<=  300,00|50%\n",
        "|>  300,00 E <=  500,00|40%\n",
        "|>  500,00 E <=  700,00|30%\n",
        "|>  700,00 E <=  800,00|20%\n",
        "|>  800,00 E <=  1.000,00|10%\n",
        "|>  1.000,00|5%\n",
        "\n"
      ]
    },
    {
      "cell_type": "code",
      "metadata": {
        "id": "7KrwSQTLL1ti"
      },
      "source": [
        "# Digite seu código aqui."
      ],
      "execution_count": null,
      "outputs": []
    },
    {
      "cell_type": "markdown",
      "metadata": {
        "id": "yM_O-bAxL15-"
      },
      "source": [
        "15.  Uma agência bancária possui dois tipos de investimentos, conforme o quadro a seguir. Faça um pro- grama que receba o tipo de investimento e seu valor, calcule e mostre o valor corrigido após um mês de investimento, de acordo com o tipo de investimento.\n",
        "\n",
        "\n",
        "|TIPO|DESCRIÇÃO|% DE DESCONTO\n",
        "|---|---|---|\n",
        "|1|Poupança|3%\n",
        "|2|Fundo de renda fixa|4%\n"
      ]
    },
    {
      "cell_type": "code",
      "metadata": {
        "id": "56urZ94iL2Mg"
      },
      "source": [
        "# Digite seu código aqui."
      ],
      "execution_count": null,
      "outputs": []
    },
    {
      "cell_type": "markdown",
      "metadata": {
        "id": "NHbTqGNYL2Zr"
      },
      "source": [
        "### 16. Uma empresa decide aplicar descontos nos seus preços usando a tabela a seguir. Faça um programa que receba o preço atual de um produto e seu código, calcule e mostre o valor do desconto e o novo preço.\n",
        "\n",
        "\n",
        "\n",
        "|PREÇO ATUAL|% DE DESCONTO\n",
        "|---|---|\n",
        "|Até  30,00|Sem desconto\n",
        "|Entre  30,00 e 1.000,00|10%\n",
        "|Acima de  100,00|15%\n"
      ]
    },
    {
      "cell_type": "code",
      "metadata": {
        "id": "mDGiPM0uL2kL"
      },
      "source": [
        "# Digite seu código aqui."
      ],
      "execution_count": null,
      "outputs": []
    },
    {
      "cell_type": "markdown",
      "metadata": {
        "id": "ADtYF17OL20a"
      },
      "source": [
        "### 17. Faça um programa que verifique a validade de uma senha fornecida pelo usuário. A senha é 4531. O programa deve mostrar uma mensagem de permissão de acesso ou não.\n"
      ]
    },
    {
      "cell_type": "code",
      "metadata": {
        "id": "ZkgbM5kbL3Eq"
      },
      "source": [
        "# Digite seu código aqui."
      ],
      "execution_count": null,
      "outputs": []
    },
    {
      "cell_type": "markdown",
      "metadata": {
        "id": "H4CDjBZ6L3SD"
      },
      "source": [
        "### 18. Faça um programa que receba a idade de uma pessoa e mostre a mensagem de maioridade ou não.\n"
      ]
    },
    {
      "cell_type": "code",
      "metadata": {
        "id": "DmJX7Ze2L3fG"
      },
      "source": [
        "# Digite seu código aqui."
      ],
      "execution_count": null,
      "outputs": []
    },
    {
      "cell_type": "markdown",
      "metadata": {
        "id": "0Pw7P4bwL3tE"
      },
      "source": [
        "### 19. Faça um programa que receba a altura e o sexo de uma pessoa e calcule e mostre seu peso ideal, utilizando as seguintes fórmulas (onde h é a altura):\n",
        "\n",
        "\n",
        "* para homens: (72.7 * h) – 58.\n",
        "* para mulheres: (62.1 * h) – 44.7.\n"
      ]
    },
    {
      "cell_type": "code",
      "metadata": {
        "id": "QAArD8qWL37Z"
      },
      "source": [
        "# Digite seu código aqui."
      ],
      "execution_count": null,
      "outputs": []
    },
    {
      "cell_type": "markdown",
      "metadata": {
        "id": "fKVOL8onL4IH"
      },
      "source": [
        "### 20. Faça um programa que receba a idade de um nadador e mostre sua categoria, usando as regras a seguir. Para idade inferior a 5, deverá mostrar mensagem.\n",
        "\n",
        "\n",
        "|CATEGORIA|IDADE\n",
        "|---|---|\n",
        "|Infantil|5 a 7\n",
        "|Juvenil|8 a 11\n",
        "|Adolescente|11 a 15\n",
        "|Adulto|16 a 30\n",
        "|Sênior|Acima de 30\n",
        "\n"
      ]
    },
    {
      "cell_type": "code",
      "metadata": {
        "id": "SRHly9HyL4S9"
      },
      "source": [
        "# Digite seu código aqui."
      ],
      "execution_count": null,
      "outputs": []
    },
    {
      "cell_type": "markdown",
      "metadata": {
        "id": "LQzAwLkFL4cF"
      },
      "source": [
        "### 21. Faça um programa que receba o preço de um produto e seu código de origem e mostre sua procedência. A procedência obedece à tabela a seguir.\n",
        "\n",
        "\n",
        "\n",
        "|CÓDIGO DE ORIGEM|PRECEDÊNCIA\n",
        "|--|---|\n",
        "|1|Sul\n",
        "|2|Norte\n",
        "|3|Leste\n",
        "|4|Oeste\n",
        "|5 ou 6|Nordeste\n",
        "|7 ou 8 ou 9|Sudeste\n",
        "|10 a 20|Centro-oeste\n",
        "|21 a 30|Nodeste\n"
      ]
    },
    {
      "cell_type": "code",
      "metadata": {
        "id": "oOwiePVqL4nq"
      },
      "source": [
        "# Digite seu código aqui."
      ],
      "execution_count": null,
      "outputs": []
    },
    {
      "cell_type": "markdown",
      "metadata": {
        "id": "GFGNfP0PL4za"
      },
      "source": [
        "### 22. Faça um programa que receba a idade e o peso de uma pessoa. De acordo com a tabela a seguir, verifique e mostre em qual grupo de risco essa pessoa se encaixa.\n"
      ]
    },
    {
      "cell_type": "code",
      "metadata": {
        "id": "KfZCQBN3L4-l"
      },
      "source": [
        "# Digite seu código aqui."
      ],
      "execution_count": null,
      "outputs": []
    },
    {
      "cell_type": "markdown",
      "metadata": {
        "id": "l3i2l4F0L5Ml"
      },
      "source": [
        "### 23. Faça um programa que receba:\n",
        "\n",
        "\n",
        "* o código do produto comprado; e\n",
        "* a quantidade comprada do produto.\n",
        "* Calcule e mostre:\n",
        "* o preço unitário do produto comprado, seguindo a Tabela I;\n",
        "* o preço total da nota;\n",
        "* o valor do desconto, seguindo a Tabela II e aplicado sobre o preço total da nota; e\n",
        "* o preço final da nota depois do desconto.\n",
        "\n",
        "\n",
        "|TABELA I|\n",
        "|---|---|\n",
        "|**CÓDIGO**|**PREÇO**|\n",
        "|1 a 10|10,00\n",
        "|11 a 20|15,00\n",
        "|21 a 30|20,00\n",
        "|31 a 40|30,00\n",
        "\n",
        "<br>\n",
        "\n",
        "|TABELA II|\n",
        "|---|---|\n",
        "|PREÇO TOTAL DA NOTA|% DE DESCONTO\n",
        "|Até  250,00|5%\n",
        "|Entre  250,00 e  500,00|10%\n",
        "|Acima de  500,00|15%\n"
      ]
    },
    {
      "cell_type": "code",
      "metadata": {
        "id": "hAVDN0eIL5Yt"
      },
      "source": [
        "# Digite seu código aqui."
      ],
      "execution_count": null,
      "outputs": []
    },
    {
      "cell_type": "markdown",
      "metadata": {
        "id": "tQk4IxPyL5lC"
      },
      "source": [
        "### 24. Faça um programa que receba o preço, a categoria (1 — limpeza; 2 — alimentação; ou 3 — vestuário) e a situação (R — produtos que necessitam de refrigeração; e N — produtos que não necessitam de re-frigeração). calcule e mostre:\n",
        "\n",
        "\n",
        "1. O valor do aumento, usando as regras que se seguem.\n",
        "\n",
        "|PREÇO|CATEGORIA|PERCENTUAL DE AUMENTO\n",
        "|---|---|---|\n",
        "|<= 25|1|5%\n",
        "|<= 25|2|8%|\n",
        "|<= 25|3|10%|\n",
        "|>25|1|12%\n",
        "|>25|2|15%\n",
        "|>25|3|18%\n",
        "\n",
        "<br>\n",
        "\n",
        "2. O valor do imposto, usando as regras a seguir. O produto que preencher pelo menos um dos seguintes requisitos pagará imposto equivalente a 5% do preço; caso contrário, pagará 8%. Os requisitos são:\n",
        "\n",
        "        Categoria: 2 Situação: R\n",
        "        \n",
        "3. O novo preço, ou seja, o preço mais aumento menos imposto.\n",
        "4. A classificação, usando as regras a seguir.\n",
        "\n",
        "|NOVO PREÇO|CLASSIFICAÇÃO\n",
        "|---|---|\n",
        "|<=  50,00|Barato\n",
        "|Entre  50,00 e  120,00|Normal\n",
        "|>= 120,00|Caro\n",
        "\n",
        "\n",
        "\n",
        "\n"
      ]
    },
    {
      "cell_type": "code",
      "metadata": {
        "id": "lbGKuIi8L5vp"
      },
      "source": [
        "# Digite seu código aqui."
      ],
      "execution_count": null,
      "outputs": []
    },
    {
      "cell_type": "markdown",
      "metadata": {
        "id": "9lTD7b_lL56p"
      },
      "source": [
        "### 25. Uma empresa decidiu dar uma gratificação de Natal a seus funcionários, baseada no número de horas extras e no número de horas que o funcionário faltou ao trabalho. O valor do prêmio é obtido pela con- sulta à tabela que se segue, na qual:\n",
        "\n",
        "        H = número de horas extras – (2/3 * (número de horas falta))\n",
        "        \n",
        "        \n",
        "\n",
        "|H (MINUTOS)|PRÊMMO|\n",
        "|---|--\n",
        "|>= 2.400|500,00\n",
        "|> 1.800 e < 2.400|4500,00\n",
        "|>= 1.200 e < 1.800|300,00\n",
        "|>= 600 e < 1.200| 200,00\n",
        "|< 600|100,00\n",
        "\n"
      ]
    },
    {
      "cell_type": "code",
      "metadata": {
        "id": "szgo-AfcL6Hu"
      },
      "source": [
        "# Digite seu código aqui."
      ],
      "execution_count": null,
      "outputs": []
    },
    {
      "cell_type": "markdown",
      "metadata": {
        "id": "YTvW-jGZMaXR"
      },
      "source": [
        "# LISTA  - 03 - ESTRUTURA DE REPETIÇÃO"
      ]
    },
    {
      "cell_type": "markdown",
      "metadata": {
        "id": "4DmX1GG5MaXT"
      },
      "source": [
        "### 1. Faça um programa que leia cinco grupos de quatro valores (A,B,C,D) e mostre-os na ordem lida. Em seguida, organize-os em ordem crescente e decrescente.\n"
      ]
    },
    {
      "cell_type": "code",
      "metadata": {
        "id": "0SkmiStTMaXU"
      },
      "source": [
        "# Digite seu código aqui."
      ],
      "execution_count": null,
      "outputs": []
    },
    {
      "cell_type": "markdown",
      "metadata": {
        "id": "Z61LqZpaMaXW"
      },
      "source": [
        "### 2. Uma companhia de teatro deseja montar uma série de espetáculos. A direção calcula que, a  5,00 o ingresso, serão vendidos 120 ingressos, e que as despesas serão de 200,00. Diminuindo-se em 0,50 o preço dos ingressos, espera-se que as vendas aumentem em 26 ingressos. Faça um programa que escreva uma tabela de valores de lucros esperados em função do preço do ingresso, fazendo-se variar esse preço de 5,00 a 1,00, de 0,50 em 0.05. Escreva, ainda, para cada novo preço de ingresso, o lucro máximo esperado, o preço do ingresso e a quantidade de ingressos vendidos para a obtenção desse lucro.\n"
      ]
    },
    {
      "cell_type": "code",
      "metadata": {
        "id": "c1qZpDiOMaXX"
      },
      "source": [
        "# Digite seu código aqui."
      ],
      "execution_count": null,
      "outputs": []
    },
    {
      "cell_type": "markdown",
      "metadata": {
        "id": "cM8V5SKBMaXZ"
      },
      "source": [
        "### 3. Faça um programa que receba a idade de oito pessoas, calcule e mostre:\n",
        "\n",
        "1. a quantidade de pessoas em cada faixa etária;\n",
        "2. a porcentagem de pessoas na primeira faixa etária com relação ao total de pessoas.\n",
        "3. a porcentagem de pessoas na última faixa etária com relação ao total de pessoas\n",
        "\n",
        "\n",
        "|FAIXA ETÁRIA|IDADE\n",
        "|---|---|\n",
        "|1|Até 15 anos\n",
        "|2|De 16 a 30 anos\n",
        "|3|De 31 a 45 anos\n",
        "|4|De 46 a 60 anos\n",
        "|5|Acima de 60 anos\n",
        "\n"
      ]
    },
    {
      "cell_type": "code",
      "metadata": {
        "id": "Xqh-iRFpMaXb"
      },
      "source": [
        "# Digite seu código aqui."
      ],
      "execution_count": null,
      "outputs": []
    },
    {
      "cell_type": "markdown",
      "metadata": {
        "id": "fCAp57uyMaXe"
      },
      "source": [
        "### 4. Faça um programa que receba um número, calcule e mostre a tabuada desse número.\n",
        "Exemplo:\n",
        "\n",
        "      Digite um número: 5 \n",
        "      5 × 0 = 0\n",
        "      5 × 1 = 5\n",
        "      5 × 2 = 10\n",
        "      5 × 3 = 15\n",
        "      5 × 4 = 20\n",
        "      5 × 5 = 25\n",
        "      5 × 6 = 30\n",
        "      5 × 7 = 35\n",
        "      5 × 8 = 40\n",
        "      5 × 9 = 45\n",
        "      5 × 10 = 50\n"
      ]
    },
    {
      "cell_type": "code",
      "metadata": {
        "id": "-KdZj26MMaXf"
      },
      "source": [
        "# Digite seu código aqui."
      ],
      "execution_count": null,
      "outputs": []
    },
    {
      "cell_type": "markdown",
      "metadata": {
        "id": "VZ_4ehnuMaXi"
      },
      "source": [
        "### 5. Faça um programa que mostre as tabuadas dos númerosde 1 a 10."
      ]
    },
    {
      "cell_type": "code",
      "metadata": {
        "id": "wIF9wZ2eMaXl"
      },
      "source": [
        "# Digite seu código aqui."
      ],
      "execution_count": null,
      "outputs": []
    },
    {
      "cell_type": "markdown",
      "metadata": {
        "id": "nQDJiduRMaXo"
      },
      "source": [
        "### 6. Uma loja utiliza o código V para transação à vista e P para transação a prazo. Faça um programa que receba o código e o valor de quinze transações, calcule e mostre:\n",
        "\n",
        "* o valor total das compras à vista;\n",
        "* o valor total das compras a prazo;\n",
        "* o valor total das compras efetuadas; e\n",
        "* valor da primeira prestação das compras a prazo juntas, sabendo-se que serão pagas em três vezes.\n"
      ]
    },
    {
      "cell_type": "code",
      "metadata": {
        "id": "ZVqawZvlMaXr"
      },
      "source": [
        "# Digite seu código aqui."
      ],
      "execution_count": null,
      "outputs": []
    },
    {
      "cell_type": "markdown",
      "metadata": {
        "id": "GRWt6XdjMaXt"
      },
      "source": [
        "### 7. Faça um programa que receba a idade, a altura e o peso de cinco pessoas, calcule e mostre:\n",
        "\n",
        "* a quantidade de pessoas com idade superior a 50 anos;\n",
        "* a média das alturas das pessoas com idade entre 10 e 20 anos;\n",
        "* a porcentagem de pessoas com peso inferior a 40 kg entre todas as pessoas analisadas.\n"
      ]
    },
    {
      "cell_type": "code",
      "metadata": {
        "id": "b85r2VRDMaXt"
      },
      "source": [
        "# Digite seu código aqui."
      ],
      "execution_count": null,
      "outputs": []
    },
    {
      "cell_type": "markdown",
      "metadata": {
        "id": "EsItJ2C7MaXv"
      },
      "source": [
        "### 8. Faça um programa que receba a idade, o peso, a altura, a cor dos olhos (A — azul; P — preto; V — verde; e C — castanho) e a cor dos cabelos (P — preto; C — castanho; l — louro; e R — ruivo) de seis pessoas, e que calcule e mostre:\n",
        "\n",
        "* a quantidade de pessoas com idade superior a 50 anos e peso inferior a 60 kg;\n",
        "* a média das idades das pessoas com altura inferior a 1,50 m;\n",
        "* a porcentagem de pessoas com olhos azuis entre todas as pessoas analisadas; e\n",
        "* a quantidade de pessoas ruivas e que não possuem olhos azuis.\n"
      ]
    },
    {
      "cell_type": "code",
      "metadata": {
        "id": "XqmiK7whMaXv"
      },
      "source": [
        "# Digite seu código aqui."
      ],
      "execution_count": null,
      "outputs": []
    },
    {
      "cell_type": "markdown",
      "metadata": {
        "id": "xNyYacshMaXy"
      },
      "source": [
        "9. Façaumprogramaquerecebadezidades,pesosealturas,calculeemostre:\n",
        "\n",
        "\n",
        "* a média das idades das dez pessoas;\n",
        "* a quantidade de pessoas com peso superior a 90 kg e altura inferior a 1,50 metro; e\n",
        "* a porcentagem de pessoas com idade entre 10 e 30 anos entre as pessoas que medem mais de 1,90 m.\n"
      ]
    },
    {
      "cell_type": "code",
      "metadata": {
        "id": "GyMFzLKwMaXy"
      },
      "source": [
        "# Digite seu código aqui."
      ],
      "execution_count": null,
      "outputs": []
    },
    {
      "cell_type": "markdown",
      "metadata": {
        "id": "LORVI7WtMaX0"
      },
      "source": [
        "### 10. Faça um programa que receba dez números, calcule e mostre a soma dos números pares e a soma dos números primos."
      ]
    },
    {
      "cell_type": "code",
      "metadata": {
        "id": "bNUX3xF8MaX2"
      },
      "source": [
        "# Digite seu código aqui."
      ],
      "execution_count": null,
      "outputs": []
    },
    {
      "cell_type": "markdown",
      "metadata": {
        "id": "m8Isst89MaX5"
      },
      "source": [
        "### 11. Faça um programa que receba o valor de um carro e mostre uma tabela com os seguintes dados: preço final, quantidade de parcelas e valor da parcela. Considere o seguinte:\n",
        "\n",
        "* o preço final para compra à vista tem desconto de 20%;\n",
        "* a quantidade de parcelas pode ser: 6, 12, 18, 24, 30, 36, 42, 48, 54 e 60;e \n",
        "* os percentuais de acréscimo encontram-se na tabela a seguir.\n",
        "\n",
        "\n",
        "| QUANTIDADE DE PARCELAS|PERCENTUAL DE ACRÉSCIMO SOBRE O PREÇO FINAL\n",
        "|---|---|\n",
        "|6|3%\n",
        "|12|6%\n",
        "|16|9%\n",
        "|24|12%\n",
        "|30|15%\n",
        "|36|18%\n",
        "|42|21%\n",
        "|48|24%\n",
        "|54|27%\n",
        "|60|30%\n",
        "\n"
      ]
    },
    {
      "cell_type": "code",
      "metadata": {
        "id": "9Uzv8qugMaX6"
      },
      "source": [
        "# Digite seu código aqui."
      ],
      "execution_count": null,
      "outputs": []
    },
    {
      "cell_type": "markdown",
      "metadata": {
        "id": "WWz5HqCpMaX9"
      },
      "source": [
        "### 12. Faça um programa que receba dez números inteiros e mostre a quantidade de números primos dentre os números que foram digitados.\n"
      ]
    },
    {
      "cell_type": "code",
      "metadata": {
        "id": "kESayxTZMaX9"
      },
      "source": [
        "# Digite seu código aqui."
      ],
      "execution_count": null,
      "outputs": []
    },
    {
      "cell_type": "markdown",
      "metadata": {
        "id": "jC7JWjk0MaYA"
      },
      "source": [
        "### 13. Faça um programa que receba a idade e o peso de quinze pessoas, e que calcule e mostre as médias dos pesos das pessoas da mesma faixa etária. As faixas etárias são: de 1 a 10 anos, de 11 a 20 anos, de 21 a 30 anos e de 31 anos para cima.\n"
      ]
    },
    {
      "cell_type": "code",
      "metadata": {
        "id": "J3ZqfwEyMaYA"
      },
      "source": [
        "# Digite seu código aqui."
      ],
      "execution_count": null,
      "outputs": []
    },
    {
      "cell_type": "markdown",
      "metadata": {
        "id": "2dPYCz1HMaYC"
      },
      "source": [
        "### 14. Cada espectador de um cinema respondeu a um questionário no qual constava sua idade e sua opinião em relação ao filme: ótimo — 3; bom — 2; regular — 1. Faça um programa que receba a idade e a opi- nião de quinze espectadores, calcule e mostre:\n",
        "\n",
        "* a média das idades das pessoas que responderam ótimo;\n",
        "* a quantidade de pessoas que responderam regular; e\n",
        "* a percentagem de pessoas que responderam bom, entre todos os espectadores analisados.\n"
      ]
    },
    {
      "cell_type": "code",
      "metadata": {
        "id": "6HM3GvgXMaYC"
      },
      "source": [
        "# Digite seu código aqui."
      ],
      "execution_count": null,
      "outputs": []
    },
    {
      "cell_type": "markdown",
      "metadata": {
        "id": "OTn6YNTZMaYG"
      },
      "source": [
        "### 15. Uma empresa fez uma pesquisa de mercado para saber se as pessoas gostaram ou não de um novo pro- duto lançado. Para isso, forneceu o sexo do entrevistado e sua resposta (S — sim; ou N — não). Sabe-se que foram entrevistadas dez pessoas. Faça um programa que calcule e mostre:\n",
        "\n",
        "* o número de pessoas que responderam sim;\n",
        "* o número de pessoas que responderam não;\n",
        "* o número de mulheres que responderam sim; e\n",
        "* a percentagem de homens que responderam não, entre todos os homens analisados.\n"
      ]
    },
    {
      "cell_type": "code",
      "metadata": {
        "id": "D3VaqhUYMaYH"
      },
      "source": [
        "# Digite seu código aqui."
      ],
      "execution_count": null,
      "outputs": []
    },
    {
      "cell_type": "markdown",
      "metadata": {
        "id": "qbW8Ex96MaYN"
      },
      "source": [
        "### 16. Faça um programa que receba várias idades, calcule e mostre a média das idades digitadas. Finalize digitando idade igual a zero."
      ]
    },
    {
      "cell_type": "code",
      "metadata": {
        "id": "wGmAmM7fMaYN"
      },
      "source": [
        "# Digite seu código aqui."
      ],
      "execution_count": null,
      "outputs": []
    },
    {
      "cell_type": "markdown",
      "metadata": {
        "id": "7qgmxgZxMaYT"
      },
      "source": [
        "### 17. Foi feita uma pesquisa sobre a audiência d ecanal de TV em várias casas de uma cidade, em determina do dia. Para cada casa consultada foi fornecido o número do canal (4, 5, 7, 12) e o número de pessoas que estavam assistindo àquele canal. Se a televisão estivesse desligada, nada era anotado, ou seja, essa casa não entrava na pesquisa. Faça um programa que:\n",
        "\n",
        "* leia um número indeterminado de dados (número do canal e número de pessoas que estavam as- sistindo); e\n",
        "* calcule e mostre a porcentagem de audiência de cada canal.\n",
        "* Para encerrar a entrada de dados, digite o número do canal ZERO.\n"
      ]
    },
    {
      "cell_type": "code",
      "metadata": {
        "id": "EV7hww6aMaYT"
      },
      "source": [
        "# Digite seu código aqui."
      ],
      "execution_count": null,
      "outputs": []
    },
    {
      "cell_type": "markdown",
      "metadata": {
        "id": "nxsBWY-6MaYW"
      },
      "source": [
        "### 18. Foi feita uma pesquisa entre os habitantes de uma região. Foram coletados os dados de idade, sexo (M/F) e salário. Faça um programa que calcule e mostre:\n",
        "\n",
        "* a média dos salários do grupo;\n",
        "* a maior e a menor idade do grupo;\n",
        "* a quantidade de mulheres com salário até R$ 200,00;\n",
        "* a idade e o sexo da pessoa que possui o menor salário. Finalize a entrada de dados ao ser digitada uma idade negativa.\n"
      ]
    },
    {
      "cell_type": "code",
      "metadata": {
        "id": "wJE_1TD1MaYW"
      },
      "source": [
        "# Digite seu código aqui."
      ],
      "execution_count": null,
      "outputs": []
    },
    {
      "cell_type": "markdown",
      "metadata": {
        "id": "iuhxvwbeMaYY"
      },
      "source": [
        "### 19. Faça um programa que receba o tipo da ação, ou seja, uma letra a ser comercializada na bolsa de valores, o preço de compra e o preço de venda de cada ação e que calcule e mostre:\n",
        "\n",
        "* o lucro de cada ação comercializada;\n",
        "* a quantidade de ações com lucro superior a  1.000,00;\n",
        "* a quantidade de ações com lucro inferior a  200,00;\n",
        "* o lucro total da empresa.\n",
        "* Finalize com o tipo de ação ‘F\n",
        "\n"
      ]
    },
    {
      "cell_type": "code",
      "metadata": {
        "id": "shMSsSr5MaYY"
      },
      "source": [
        "# Digite seu código aqui."
      ],
      "execution_count": null,
      "outputs": []
    },
    {
      "cell_type": "markdown",
      "metadata": {
        "id": "9ntMvHTHMaYb"
      },
      "source": [
        "### 20. Faça um programa que apresente o menu de opções a seguir:\n",
        "\n",
        "    Menu de opções:\n",
        "      1 Média aritmética \n",
        "      2 Média ponderada \n",
        "      3 Sair\n",
        "    Digite a opção desejada: \n",
        "\n",
        "* Na opção 1: receber duas notas, calcular e mostrar a média aritmética.\n",
        "* Na opção 2: receber três notas e seus respectivos pesos, calcular e mostrar a média ponderada. Na opção 3: sair do programa.\n",
        "* Verifique a possibilidade de opção inválida. Nesse caso, o programa deverá mostrar uma mensagem.\n"
      ]
    },
    {
      "cell_type": "code",
      "metadata": {
        "id": "0QrF_QvXMaYb"
      },
      "source": [
        "# Digite seu código aqui."
      ],
      "execution_count": null,
      "outputs": []
    },
    {
      "cell_type": "markdown",
      "metadata": {
        "id": "OvWBuhsMMaYd"
      },
      "source": [
        "### 21. Em uma eleição presidencial existem quatro candidatos. Os votos são informados por meio de código.\n",
        "\n",
        "|CÓDIGOS|\n",
        "|--|--|\n",
        "|1, 2, 3, 4|Votos para os respectivos candidatos\n",
        "|5|Voto nulo\n",
        "|6|Voto em branco\n",
        "\n",
        "Faça um programa que calcule e mostre:\n",
        "* o total de votos para cada candidato;\n",
        "* o total de votos nulos;\n",
        "* o total de votos em branco;\n",
        "* a porcentagem de votos nulos sobre o total de votos; e\n",
        "* a porcentagem de votos em branco sobre o total de votos.\n",
        "\n",
        "Para finalizar o conjunto de votos, tem-se o valor zero e, para códigos inválidos, o programa deverá mostrar uma mensagem.\n",
        "\n"
      ]
    },
    {
      "cell_type": "code",
      "metadata": {
        "id": "8cJ9kcGYMaYd"
      },
      "source": [
        "# Digite seu código aqui."
      ],
      "execution_count": null,
      "outputs": []
    },
    {
      "cell_type": "markdown",
      "metadata": {
        "id": "EASvGQ6uMaYg"
      },
      "source": [
        "### 22. Faça um programa que receba a idade e a altura de várias pessoas, calcule e mostre a média das alturas daquelas com mais de 50 anos. Para encerrar a entrada de dados, digite idade menor ou igual a zero.\n"
      ]
    },
    {
      "cell_type": "code",
      "metadata": {
        "id": "uGVqbvYBMaYh"
      },
      "source": [
        "# Digite seu código aqui."
      ],
      "execution_count": null,
      "outputs": []
    },
    {
      "cell_type": "markdown",
      "metadata": {
        "id": "pfN8R4uJMaYm"
      },
      "source": [
        "### 23. Faça um programa que apresente o menu de opções a seguir, que permita ao usuário escolher a opção desejada, receba os dados necessários para executar a operação e mostre o resultado. Verifique a possibilidade de opção inválida e não se preocupe com as restrições como salário inválido.\n",
        "\n",
        "\n",
        "      Menu de opções:\n",
        "      1. Novo salário\n",
        "      2. Férias\n",
        "      3. Décimo terceiro\n",
        "      4. Sair\n",
        "      Digite a opção desejada.\n",
        "    \n",
        "Na opção 1: receber o salário de um funcionário, calcular e mostrar o novo salário usando as regras a seguir:\n",
        "\n",
        "|SALÁRIOS|PERCENTAGEN DE ALIMENTO\n",
        "|---|---|\n",
        " |210,00|15%\n",
        "|De  210,00 a  600,00 (inclusive)|10%\n",
        "|Acima de  600,00|5%\n",
        "\n",
        "* Na opção 2: receber o salário de um funcionário, calcular e mostrar o valor de suas férias. Sabe-se que as férias equivalem a seu salário acrescido de um terço do salário.\n",
        "\n",
        "* Na opção 3: receber o salário de um funcionário e o número de meses de trabalho na empresa, no máximo doze, calcular e mostrar o valor do décimo terceiro. Sabe-se que o décimo terceiro equivale a seu salário multiplicado pelo número de meses de trabalho dividido por 12\n",
        "\n",
        "* Na opção 4: sair do programa\n"
      ]
    },
    {
      "cell_type": "code",
      "metadata": {
        "id": "RE4so4LRMaYn"
      },
      "source": [
        "# Digite seu código aqui."
      ],
      "execution_count": null,
      "outputs": []
    },
    {
      "cell_type": "markdown",
      "metadata": {
        "id": "kNdQidL-MaYp"
      },
      "source": [
        "### 24. Faça um programa que receba um conjunto de valores inteiros e positivos, calcule e mostre o maior e o menor valor do conjunto. Considere que:\n",
        "\n",
        "* para encerrar a entrada de dados, deve ser digitado o valor zero;\n",
        "* para valores negativos, deve ser enviada uma mensagem;\n",
        "* os valores negativos ou iguais a zero não entrarão nos cálculos\n"
      ]
    },
    {
      "cell_type": "code",
      "metadata": {
        "id": "E93DHyn8MaYq"
      },
      "source": [
        "# Digite seu código aqui."
      ],
      "execution_count": null,
      "outputs": []
    },
    {
      "cell_type": "markdown",
      "metadata": {
        "id": "J2vuhN6aMaYr"
      },
      "source": [
        "### 25. Uma agência bancária possui vários clientes que podem fazer investimentos com rendimentos mensais, conforme a tabela a seguir:\n",
        "\n",
        "|TIPO|DESCRIÇÃO|RENDIMENTO MENSAL\n",
        "|---|---|---|\n",
        "|1|Poupança|1,5%\n",
        "|2|Poupança plus|2%\n",
        "|3|Fundos de renda fixa|4%\n",
        "\n",
        "Faça um programa que leia o código do cliente, o tipo do investimento e o valor investido, e que calcule e mostre o rendimento mensal de acordo com o tipo do investimento. No final, o programa deverá mostrar o total investido e o total de juros pagos.\n",
        "\n",
        "A leitura terminará quando o código do cliente digitado for menor ou igual a 0\n"
      ]
    },
    {
      "cell_type": "code",
      "metadata": {
        "id": "vPSw7hL3MaYr"
      },
      "source": [
        "# Digite seu código aqui."
      ],
      "execution_count": null,
      "outputs": []
    },
    {
      "cell_type": "markdown",
      "metadata": {
        "id": "TJn90_G9Fcw8"
      },
      "source": [
        "# LISTA  04 - LISTAS"
      ]
    },
    {
      "cell_type": "markdown",
      "metadata": {
        "id": "i09rsnyUMr-k"
      },
      "source": [
        "### 1. Faça um programa que preencha um vetor com seis elementos numéricos inteiros.\n",
        "Calcule e mostre:\n",
        "\n",
        "* todos os números pares;\n",
        "* a quantidade de números pares;\n",
        "* todos os números ímpares;\n",
        "* a quantidade de números ímpares\n",
        "\n"
      ]
    },
    {
      "cell_type": "code",
      "metadata": {
        "id": "71E2dVEwMr-o"
      },
      "source": [
        "# Digite seu código aqui."
      ],
      "execution_count": null,
      "outputs": []
    },
    {
      "cell_type": "markdown",
      "metadata": {
        "id": "2x3Frl2rMr-u"
      },
      "source": [
        "### 2. Faça um programa que preencha um vetor com sete números inteiros, calcule e mostre:\n",
        "\n",
        "* os números múltiplos de 2;\n",
        "* os números múltiplos de 3;\n",
        "* os números múltiplos de 2 e de 3.\n"
      ]
    },
    {
      "cell_type": "code",
      "metadata": {
        "id": "RnOC0ildMr-y"
      },
      "source": [
        "# Digite seu código aqui."
      ],
      "execution_count": null,
      "outputs": []
    },
    {
      "cell_type": "markdown",
      "metadata": {
        "id": "Hve1jpvSMr-0"
      },
      "source": [
        "### 3. Faça um programa para controlar o estoque de mercadorias de uma empresa. Inicialmente, o programa deverá preencher dois vetores com dez posições cada, onde o primeiro corresponde ao código do produto e o segundo, ao total desse produto em estoque. Logo após, o programa deverá ler um conjunto indeterminado de dados contendo o código de um cliente e o código do produto que ele deseja comprar, juntamente com a quantidade. Código do cliente igual a zero indica fim do programa.\n",
        "\n",
        "O programa deverá verificar:\n",
        "\n",
        "* se o código do produto solicitado existe. Se existir, tentar atender ao pedido; caso contrário, exibir mensagem Código inexistente;\n",
        "* cada pedido feito por um cliente só pode ser atendido integralmente. Caso isso não seja possível,\n",
        "* escrever a mensagem Não temos estoque suficiente dessa mercadoria. Se puder atendê-lo, escrever a mensagem Pedido atendido. Obrigado e volte sempre;\n",
        "* efetuar a atualização do estoque somente se o pedido for atendido integralmente;\n",
        "* no final do programa, escrever os códigos dos produtos com seus respectivos estoques já atualizados.\n"
      ]
    },
    {
      "cell_type": "code",
      "metadata": {
        "id": "_9qMBWv8Mr-0"
      },
      "source": [
        "# Digite seu código aqui."
      ],
      "execution_count": null,
      "outputs": []
    },
    {
      "cell_type": "markdown",
      "metadata": {
        "id": "md2PQjHJMr-2"
      },
      "source": [
        "### 4. Faça um programa que preencha um vetor com quinze elementos inteiros e verifique a existência de elementos iguais a 30, mostrando as posições em que apareceram.\n"
      ]
    },
    {
      "cell_type": "code",
      "metadata": {
        "id": "9WpdpxpFMr-3"
      },
      "source": [
        "# Digite seu código aqui."
      ],
      "execution_count": null,
      "outputs": []
    },
    {
      "cell_type": "markdown",
      "metadata": {
        "id": "RRWOP0t5Mr-5"
      },
      "source": [
        "#### 5. Uma escola deseja saber se existem alunos cursando, simultaneamente, as disciplinas Lógica e Linguagem de Programação. Coloque os números das matrículas dos alunos que cursam Lógica em um vetor, quinze alunos. Coloque os números das matrículas dos alunos que cursam Linguagem\n"
      ]
    },
    {
      "cell_type": "code",
      "metadata": {
        "id": "e-dKjkgWMr-6"
      },
      "source": [
        "# Digite seu código aqui."
      ],
      "execution_count": null,
      "outputs": []
    },
    {
      "cell_type": "markdown",
      "metadata": {
        "id": "5bPivQNnMr-8"
      },
      "source": [
        "### 6. Faça um programa que receba o total das vendas de cada vendedor de uma loja e armazene-as em um vetor. Receba também o percentual de comissão a que cada vendedor tem direito e armazene-os em outro vetor. Receba os nomes desses vendedores e armazene-os em um terceiro vetor. Existem apenas dez vendedores na loja.\n",
        "\n",
        "Calcule e mostre:\n",
        "\n",
        "* um relatório com os nomes dos vendedores e os valores a receber referentes à comissão;\n",
        "* o total das vendas de todos os vendedores;\n",
        "* o maior valor a receber e o nome de quem o receberá;\n",
        "* o menor valor a receber e o nome de quem o receberá.\n"
      ]
    },
    {
      "cell_type": "code",
      "metadata": {
        "id": "CugZVoqrMr-8"
      },
      "source": [
        "# Digite seu código aqui."
      ],
      "execution_count": null,
      "outputs": []
    },
    {
      "cell_type": "markdown",
      "metadata": {
        "id": "UXFIjqdxMr--"
      },
      "source": [
        "### 7.Faça um programa que preencha um vetor com dez números reais, calcule e mostre a quantidade de números negativos e a soma dos números positivos desse vetor.\n"
      ]
    },
    {
      "cell_type": "code",
      "metadata": {
        "id": "7FcUQ7zpMr--"
      },
      "source": [
        "# Digite seu código aqui."
      ],
      "execution_count": null,
      "outputs": []
    },
    {
      "cell_type": "markdown",
      "metadata": {
        "id": "8gVfBILzMr_D"
      },
      "source": [
        "### 8. Faça um programa que preencha um vetor com os nomes de sete alunos e carregue outro vetor com a média final desses alunos.\n",
        "\n",
        "Calcule e mostre:\n",
        "\n",
        "* o nome do aluno com maior média (desconsiderar empates);\n",
        "* para cada aluno não aprovado, isto é, com média menor que 7, mostrar quanto esse aluno precisa tirar na prova de exame final para ser aprovado. Considerar que a média para aprovação no exame é 5.\n"
      ]
    },
    {
      "cell_type": "code",
      "metadata": {
        "id": "YRiNwHb9Mr_E"
      },
      "source": [
        "# Digite seu código aqui."
      ],
      "execution_count": null,
      "outputs": []
    },
    {
      "cell_type": "markdown",
      "metadata": {
        "id": "Uhgrd-HAMr_H"
      },
      "source": [
        "#### 9. Faça um programa que:\n",
        "* peencha três vetores com dez posições cada um:\n",
        " * o primeiro vetor, com os nomes de dez produtos\n",
        " * o segundo vetro, com os códigos deos dez produtod;\n",
        " * o terceiro vetor. com os preços dos produtos.\n",
        "\n",
        "* Mostre um relatório apenas com o nome, os códigos dos dez produto e o terceiro vetor, com os preços dos produtos;\n",
        "* Moste um relatório apenas com o nome, o código, o preço e o novo preço dos produtos que sofrerão aumeunto.Os produtos que sofrerão aumento são os que: \n",
        "  * possuem código par ou preço superior a 1.000,00\n",
        "  * os produtos que satisfazeram apenas a condiçãio de código, o aumenta será de 15%;\n",
        "  * e para quelas que satizfazem apenas a condição de preço, o aumento será de 10% \n"
      ]
    },
    {
      "cell_type": "code",
      "metadata": {
        "id": "sGr3AU3KMr_I"
      },
      "source": [
        "# Digite seu código aqui."
      ],
      "execution_count": null,
      "outputs": []
    },
    {
      "cell_type": "markdown",
      "metadata": {
        "id": "9FP9QdviMr_K"
      },
      "source": [
        "### 10. Faça um programa que: \n",
        "\n",
        "* preeencha um vetor com dez números interios\n",
        "* um segundo vetor com cinco números inteiros\n",
        "* calcule e moste dois vetores resultantes.\n",
        "  * O primeiro vetor resultante será composto pela soma de cada número par do primerio vetor somado a todos os numeros do segudno vetor.\n",
        "  * O segundo vetor resultante restá composto pela quantidade de divisores que que cada número impapr do primeiro vetor tem no segundo vetor.\n",
        "\n",
        "\n",
        "\n",
        "\n",
        "      primeiro_vetor = [4, 7, 8,2, 15, 9, 6,10, 11]\n",
        "      segundo_vetor = [3, 4, 5, 8, 2]\n",
        "      \n",
        "      primeiro_vetor_resultante = [26, 30, 34\n",
        "      segundo_vetor_resultante = [0,1, 2]\n",
        "\n"
      ]
    },
    {
      "cell_type": "code",
      "metadata": {
        "id": "mav8c_5-Mr_K"
      },
      "source": [
        "# Digite seu código aqui."
      ],
      "execution_count": null,
      "outputs": []
    },
    {
      "cell_type": "markdown",
      "metadata": {
        "id": "1jJ3Xm3CMr_O"
      },
      "source": [
        "### 11. Faça um programa que receba dez números inteiros e armazene-os em um vetor. Calcule e mostre dois vetores resultantes: o primeiro com os números pares e o segundo, com os números ímpares."
      ]
    },
    {
      "cell_type": "code",
      "metadata": {
        "id": "lXU7jA5dMr_P"
      },
      "source": [
        "# Digite seu código aqui."
      ],
      "execution_count": null,
      "outputs": []
    },
    {
      "cell_type": "markdown",
      "metadata": {
        "id": "z8qKxvHaMr_U"
      },
      "source": [
        "### 12. Faça um programa que receba cinco números e mostre a saída a seguir:\n",
        "\n",
        "    Digite o 1° número: 5\n",
        "    Digite o 2° número: 3\n",
        "    Digite o 3° número: 2\n",
        "    Digite o 4° número: 0\n",
        "    Digite o 5° número: 2\n",
        "    \n",
        "    Os números digitados foram: 5 + 3 + 2 + 0 + 2 = 12\n"
      ]
    },
    {
      "cell_type": "code",
      "metadata": {
        "id": "2MEYVz5SMr_U"
      },
      "source": [
        "# Digite seu código aqui."
      ],
      "execution_count": null,
      "outputs": []
    },
    {
      "cell_type": "markdown",
      "metadata": {
        "id": "R7G9pVC7Mr_c"
      },
      "source": [
        "### 13. Faça um programa que receba o nome e a nota de oito alunos e mostre o relatório a seguir:\n",
        "\n",
        "    Digite o nome do 1 o aluno: Carlos\n",
        "    Digite a nota do Carlos: 8\n",
        "    Digite o nome do 2 o aluno: Pedro\n",
        "    Digite a nota do Pedro: 5\n",
        "    Relatórios de notas\n",
        "    Carlos 8.0\n",
        "    Pedro 5.0\n",
        "    …\n",
        "    …\n",
        "    Média da classe = ??\n"
      ]
    },
    {
      "cell_type": "code",
      "metadata": {
        "id": "rcr6iaH0Mr_c"
      },
      "source": [
        "# Digite seu código aqui."
      ],
      "execution_count": null,
      "outputs": []
    },
    {
      "cell_type": "markdown",
      "metadata": {
        "id": "IRzSwe0xMr_e"
      },
      "source": [
        "### 14. Faça um programa que receba o nome e seis notas de seis alunos e mostre o relatório a seguir. \n",
        "\n",
        "                                              Relatório de notas:\n",
        "\n",
        "|ALUNO|1°PROVA|2° PROVA|MÁDIA|SITUAÇÃO\n",
        "|---|---|---|\n",
        "|Carlos|8,0|9,0|8,5|Aprovado\n",
        "|Pedro|4,0|5,0|4,5|Reprovado\n",
        "|...|...|...|...|...|\n",
        "\n",
        "      média da classe                 = ?\n",
        "      percentual de alunos aprovado   = ?%\n",
        "      percentual de alunos de exame   = ?%\n",
        "      percentual de alunos reprovados = ?%\n",
        "\n",
        "\n",
        "\n",
        "\n",
        "\n"
      ]
    },
    {
      "cell_type": "code",
      "metadata": {
        "id": "6p-TalrLMr_f"
      },
      "source": [
        "# Digite seu código aqui."
      ],
      "execution_count": null,
      "outputs": []
    },
    {
      "cell_type": "markdown",
      "metadata": {
        "id": "WGiDL6JGMr_g"
      },
      "source": [
        "### 15. Faça um programa que:\n",
        "\n",
        "* receba o nome de oito clientes e armazene-os em um vetor.\n",
        "* Em um segundo vetor, armazene a quantidade de DVDs locados em 2018 por cada um dos oito clientes.\n",
        "* Para cada dez locações, o cliente tem direito a uma locação grátis.\n",
        "\n",
        "Faça um programa que mostre o nome de todos os clientes, com a quantidade de locações grátis a que ele tem direito.\n"
      ]
    },
    {
      "cell_type": "code",
      "metadata": {
        "id": "GaQI16RjjK8Y"
      },
      "source": [
        "# Digite seu código aqui."
      ],
      "execution_count": null,
      "outputs": []
    },
    {
      "cell_type": "markdown",
      "metadata": {
        "id": "diKV112HbSmL"
      },
      "source": [
        "### 16. Faça um programa que receba o nome de cinco produtos e seus respectivos preços. Calcule e mostre:\n",
        "\n",
        "* a quantidade de produtos com preço inferior a  50,00;\n",
        "* o nome dos produtos com preço entre  50,00 e  100,00;\n",
        "* a média dos preços dos produtos com preço superior a  100,00.\n"
      ]
    },
    {
      "cell_type": "code",
      "metadata": {
        "id": "2jOog6MOMr_h"
      },
      "source": [
        "# Digite seu código aqui."
      ],
      "execution_count": null,
      "outputs": []
    },
    {
      "cell_type": "markdown",
      "metadata": {
        "id": "DN56ITfjMr_i"
      },
      "source": [
        "### 17. Faça um programa que preencha dois vetores de dez posições cada, determine e mostre um terceiro contendo os elementos dos dois vetores anteriores ordenados de maneira decrescente."
      ]
    },
    {
      "cell_type": "code",
      "metadata": {
        "id": "iEc3z-uGMr_j"
      },
      "source": [
        "# Digite seu código aqui."
      ],
      "execution_count": null,
      "outputs": []
    },
    {
      "cell_type": "markdown",
      "metadata": {
        "id": "ZcO6LLknMr_k"
      },
      "source": [
        "### 18. Faça um programa que preencha um vetor com quinze números, determine e mostre:\n",
        "\n",
        "* o maior número e a posição por ele ocupada no vetor;\n",
        "* o menor número e a posição por ele ocupada no vetor.\n"
      ]
    },
    {
      "cell_type": "code",
      "metadata": {
        "id": "EGwc8s7VMr_l"
      },
      "source": [
        "# Digite seu código aqui."
      ],
      "execution_count": null,
      "outputs": []
    },
    {
      "cell_type": "markdown",
      "metadata": {
        "id": "qjQK39kzMr_m"
      },
      "source": [
        "### 19. Faça um programa que leia dois vetores de dez posições e faça a multiplicação dos elementos de mesmo índice, colocando o resultado em um terceiro vetor. Mostre o vetor resultante"
      ]
    },
    {
      "cell_type": "code",
      "metadata": {
        "id": "zJ15Ad4mMr_m"
      },
      "source": [
        "# Digite seu código aqui."
      ],
      "execution_count": null,
      "outputs": []
    },
    {
      "cell_type": "markdown",
      "metadata": {
        "id": "O2SBCex4Mr_n"
      },
      "source": [
        "### 20. Faça um programa que leia um vetor com dez posições para números inteiros e mostre somente os números positivos."
      ]
    },
    {
      "cell_type": "code",
      "metadata": {
        "id": "xxImj0wMMr_o"
      },
      "source": [
        "# Digite seu código aqui."
      ],
      "execution_count": null,
      "outputs": []
    },
    {
      "cell_type": "markdown",
      "metadata": {
        "id": "DJDoialDMr_q"
      },
      "source": [
        "### 21. Faça um programa que:\n",
        "* leia um vetor com dez posições para números inteiros.\n",
        "* Crie um segundo vetor, substituindo os valores nulos por 1.\n",
        "* Mostre os dois vetores\n"
      ]
    },
    {
      "cell_type": "code",
      "metadata": {
        "id": "ugu137waMr_q"
      },
      "source": [
        "# Digite seu código aqui."
      ],
      "execution_count": null,
      "outputs": []
    },
    {
      "cell_type": "markdown",
      "metadata": {
        "id": "ZF1waMSvMr_r"
      },
      "source": [
        "### 22. Faça um programa que:\n",
        "* leia um vetor A de dez posições.\n",
        "* compacte o vetor, retirando os valores nulos e negativos.\n",
        "* Armazene esse resultado no vetor B.\n",
        "* Mostre o vetor B."
      ]
    },
    {
      "cell_type": "code",
      "metadata": {
        "id": "tqHD5jiNMr_r"
      },
      "source": [
        "# Digite seu código aqui."
      ],
      "execution_count": null,
      "outputs": []
    },
    {
      "cell_type": "markdown",
      "metadata": {
        "id": "3BPUwT29cYrt"
      },
      "source": [
        "### 23. Faça um programa que:\n",
        "\n",
        "* leia dois vetores (A e B) com cinco posições para números inteiros.\n",
        "* O programa deve, então, subtrair o primeiro elemento de A do último de B, acumulando o valor, subtrair o segundo elemento de A do penúltimo de B, acumulando o valor e assim por diante. \n",
        "* Ao final, mostre o resultado de todas as subtrações realizadas\n"
      ]
    },
    {
      "cell_type": "code",
      "metadata": {
        "id": "Tssl7LH0cZAP"
      },
      "source": [
        "# Digite seu código aqui."
      ],
      "execution_count": null,
      "outputs": []
    },
    {
      "cell_type": "markdown",
      "metadata": {
        "id": "VfyFGF3tcZKt"
      },
      "source": [
        "### 24. Faça um programa que:\n",
        "* leia um vetor com quinze posições para números inteiros.\n",
        "* Crie, a seguir, um vetor resultante que contenha todos os números primos do vetor digitado.\n",
        "* Escreva o vetor resultante.\n"
      ]
    },
    {
      "cell_type": "code",
      "metadata": {
        "id": "9TqTHzMRcZY2"
      },
      "source": [
        "# Digite seu código aqui."
      ],
      "execution_count": null,
      "outputs": []
    },
    {
      "cell_type": "markdown",
      "metadata": {
        "id": "D1J_juU9cZpe"
      },
      "source": [
        "### 25. Faça um programa que:\n",
        "* leia um vetor com quinze posições para números inteiros.\n",
        "* Depois da leitura, divida todos os seus elementos pelo maior valor do vetor.\n",
        "* Mostre o vetor após os cálculos.\n"
      ]
    },
    {
      "cell_type": "code",
      "metadata": {
        "id": "UtdcaPBfcZ22"
      },
      "source": [
        "# Digite seu código aqui."
      ],
      "execution_count": null,
      "outputs": []
    },
    {
      "cell_type": "markdown",
      "metadata": {
        "id": "5k-BiMjIF8EV"
      },
      "source": [
        "# LISTA 05 - STRINGS"
      ]
    },
    {
      "cell_type": "markdown",
      "metadata": {
        "id": "oT3BMl4MMuxR"
      },
      "source": [
        "### 1. Faça um programa para criptografar uma frase dada pelo usuário.\n",
        "Na criptografia, a frase deverá ser invertida\n",
        "e as consoantes deverão ser trocadas por #.\n",
        "\n",
        "**Exemplo:**\n",
        "\n",
        "Frase: EU ESTOU NA ESCOLA\n",
        "\n",
        "Saída: A#O##E A# UO##E UE\n"
      ]
    },
    {
      "cell_type": "code",
      "metadata": {
        "id": "ilbKtZevMuxS"
      },
      "source": [
        "# Digite seu código aqui."
      ],
      "execution_count": null,
      "outputs": []
    },
    {
      "cell_type": "markdown",
      "metadata": {
        "id": "vWM-tGgcMuxU"
      },
      "source": [
        "### 2. Faça um programa que receba uma frase e mostre cada palavra dela em uma linha separada.\n",
        "\n",
        "Exemplo:\n",
        "\n",
        "Frase: COMPUTADORES SÃO MÁQUINAS POTENTES\n",
        "\n",
        "Saída: \n",
        "\n",
        "COMPUTADORES\n",
        "\n",
        "SÃO \n",
        "\n",
        "MÁQUINAS\n",
        "\n",
        "POTENTES"
      ]
    },
    {
      "cell_type": "code",
      "metadata": {
        "id": "igCI8LftMuxV"
      },
      "source": [
        "# Digite seu código aqui."
      ],
      "execution_count": null,
      "outputs": []
    },
    {
      "cell_type": "markdown",
      "metadata": {
        "id": "WW6ww4GpMuxY"
      },
      "source": [
        "### 3. Faça um programa que receba uma frase e gere uma nova, retirando os espaços excedentes no início e no fim  da frase e entre suas palavras."
      ]
    },
    {
      "cell_type": "code",
      "metadata": {
        "id": "rPZeqnxUMuxY"
      },
      "source": [
        "# Digite seu código aqui."
      ],
      "execution_count": null,
      "outputs": []
    },
    {
      "cell_type": "markdown",
      "metadata": {
        "id": "pE2LPPozMuxc"
      },
      "source": [
        "### 4. Faça um programa que receba uma frase, calcule e mostre a quantidade de palavras da frase digitada. Antes  de contar a quantidade de palavras da frase, esta deverá passar pelas seguintes correções:\n",
        "\n",
        "-  Eliminação de espaços no início da frase. \n",
        "-  Eliminação de espaços no fim da frase. \n",
        "- Eliminação de espaços duplicados entre palavras. "
      ]
    },
    {
      "cell_type": "code",
      "metadata": {
        "id": "aacExClGMuxd"
      },
      "source": [
        "# Digite seu código aqui."
      ],
      "execution_count": null,
      "outputs": []
    },
    {
      "cell_type": "markdown",
      "metadata": {
        "id": "O4hgulvoMuxh"
      },
      "source": [
        "### 5. Faça um programa que receba duas cadeias de caracteres e verifique se a primeira cadeia digitada é permuta\u0002ção da segunda cadeia, ou seja, se todos os caracteres da primeira cadeia estão presentes na segunda cadeia, mesmo que em posições diferentes. \n",
        "\n",
        "Exemplo:\n",
        "\n",
        "“abccde” é uma permutação de “cbadce”, mas não é de “abcdef” nem de “abcde”"
      ]
    },
    {
      "cell_type": "code",
      "metadata": {
        "id": "Eq-nZkfZMuxh"
      },
      "source": [
        "# Digite seu código aqui."
      ],
      "execution_count": null,
      "outputs": []
    },
    {
      "cell_type": "markdown",
      "metadata": {
        "id": "Z1ehhKVCMuxk"
      },
      "source": [
        "### 6. Faça um programa que receba uma frase e gere uma nova frase, duplicando cada caractere da frase digitada.\n",
        "\n",
        "Exemplo:\n",
        "\n",
        "Frase: PROGRAMAR É BOM\n",
        "\n",
        "Saída: PPRROOGGRRAAMMAARR ÉÉ BBOOMM"
      ]
    },
    {
      "cell_type": "code",
      "metadata": {
        "id": "A-WMIulvMuxm"
      },
      "source": [
        "# Digite seu código aqui."
      ],
      "execution_count": null,
      "outputs": []
    },
    {
      "cell_type": "markdown",
      "metadata": {
        "id": "_oorKFZ6Muxq"
      },
      "source": [
        "### 7. Faça um programa que receba uma frase e mostre quantas letras diferentes ela contém. "
      ]
    },
    {
      "cell_type": "code",
      "metadata": {
        "id": "8sSTRBguMuxq"
      },
      "source": [
        "# Digite seu código aqui."
      ],
      "execution_count": null,
      "outputs": []
    },
    {
      "cell_type": "markdown",
      "metadata": {
        "id": "0sBkDoJ_Muxt"
      },
      "source": [
        "### 8. Faça um programa que receba uma frase e um caractere e verifique se o caractere digitado é encontrado na  frase ou não e, se for encontrado, quantas vezes isso acontece."
      ]
    },
    {
      "cell_type": "code",
      "metadata": {
        "id": "VTcXnTm2Muxu"
      },
      "source": [
        "# Digite seu código aqui."
      ],
      "execution_count": null,
      "outputs": []
    },
    {
      "cell_type": "markdown",
      "metadata": {
        "id": "xqdi3ABeMuxy"
      },
      "source": [
        "### 9. Faça um programa que receba uma frase e um caractere e verifique em que posição da frase o caractere digi\u0002tado aparece pela primeira vez."
      ]
    },
    {
      "cell_type": "code",
      "metadata": {
        "id": "N4kYVBVqMuxz"
      },
      "source": [
        "# Digite seu código aqui."
      ],
      "execution_count": null,
      "outputs": []
    },
    {
      "cell_type": "markdown",
      "metadata": {
        "id": "kkd-uei4Mux0"
      },
      "source": [
        "### 10. Faça um programa que receba uma frase e um caractere e verifique em que posição da frase o caractere  digitado aparece pela última vez."
      ]
    },
    {
      "cell_type": "code",
      "metadata": {
        "id": "k5MSe9e5Mux1"
      },
      "source": [
        "# Digite seu código aqui."
      ],
      "execution_count": null,
      "outputs": []
    },
    {
      "cell_type": "markdown",
      "metadata": {
        "id": "OivDxMd1Mux2"
      },
      "source": [
        "### 11. Faça um programa que receba uma frase e mostre quantas vezes cada palavra aparece na frase digitada. "
      ]
    },
    {
      "cell_type": "code",
      "metadata": {
        "id": "nUZTBtfYMux3"
      },
      "source": [
        "# Digite seu código aqui."
      ],
      "execution_count": null,
      "outputs": []
    },
    {
      "cell_type": "markdown",
      "metadata": {
        "id": "_edLoAhAMux3"
      },
      "source": [
        "### 12. Faça um programa que receba uma data no formato DD/MM/AAAA e a mostre com o mês por extenso:  DD/mês por extenso/AAAA"
      ]
    },
    {
      "cell_type": "code",
      "metadata": {
        "id": "kdptTHpWMux4"
      },
      "source": [
        "# Digite seu código aqui."
      ],
      "execution_count": null,
      "outputs": []
    },
    {
      "cell_type": "markdown",
      "metadata": {
        "id": "mlR6voFrMux7"
      },
      "source": [
        "### 13. Faça um programa que receba uma cadeia de caracteres e o número de repetições (limitado a 5) e gere uma  nova cadeia. \n",
        "\n",
        "Exemplo:\n",
        "\n",
        "Cadeia = Ui!\n",
        "\n",
        "Número = 3\n",
        "\n",
        "Nova cadeia = Ui! Ui! Ui!"
      ]
    },
    {
      "cell_type": "code",
      "metadata": {
        "id": "Y7rnjYVbMux7"
      },
      "source": [
        "# Digite seu código aqui."
      ],
      "execution_count": null,
      "outputs": []
    },
    {
      "cell_type": "markdown",
      "metadata": {
        "id": "4b6Jwl2tMux8"
      },
      "source": [
        "### 14. Faça um programa que receba uma frase e converta as vogais de suas palavras para maiúsculo e as con\u0002soantes para minúsculo."
      ]
    },
    {
      "cell_type": "code",
      "metadata": {
        "id": "yffytVPLMux9"
      },
      "source": [
        "# Digite seu código aqui."
      ],
      "execution_count": null,
      "outputs": []
    },
    {
      "cell_type": "markdown",
      "metadata": {
        "id": "mVOTftjsMux-"
      },
      "source": [
        "### 15. Faça um programa que receba uma frase e, cada vez que aparecer nela um algarismo entre 0 e 9, substi\u0002tua-o, escrevendo-o por extenso.\n",
        "\n",
        "Exemplo:\n",
        "\n",
        "Frase: EU ESTOU NA POLTRONA 5.\n",
        "\n",
        "Saída: EU ESTOU NA POLTRONA CINCO."
      ]
    },
    {
      "cell_type": "code",
      "metadata": {
        "id": "UyZm04gWMux_"
      },
      "source": [
        "# Digite seu código aqui."
      ],
      "execution_count": null,
      "outputs": []
    },
    {
      "cell_type": "markdown",
      "metadata": {
        "id": "lqCak16SMuyB"
      },
      "source": [
        "### 16. Faça um programa que receba uma frase e mostre quantas letras, quantos números e quantos espaços  existem nela."
      ]
    },
    {
      "cell_type": "code",
      "metadata": {
        "id": "3ndIsWnCMuyB"
      },
      "source": [
        "# Digite seu código aqui."
      ],
      "execution_count": null,
      "outputs": []
    },
    {
      "cell_type": "markdown",
      "metadata": {
        "id": "BAf1goa7MuyE"
      },
      "source": [
        "### 17. Faça um programa que receba uma frase e, a cada duas palavras dela, realize uma criptografia, ou seja:  a primeira letra da primeira palavra da frase concatenada com a última letra da segunda palavra, concatenada com a segunda letra da primeira palavra e com a penúltima letra da segunda palavra e assim por  diante. \n",
        "\n",
        "No caso de quantidade de palavras ímpares, a última palavra deve simplesmente ser invertida. \n",
        "\n",
        "Exemplos:\n",
        "\n",
        "Frase: Aula com bola\n",
        "\n",
        "Saída: Amuolca alob\n",
        "\n",
        "Frase: Casa com janelas coloridas\n",
        "\n",
        "Saída: Cmaosca jsaandeilraosloc"
      ]
    },
    {
      "cell_type": "code",
      "metadata": {
        "id": "kUl2bcZqMuyE"
      },
      "source": [
        "# Digite seu código aqui."
      ],
      "execution_count": null,
      "outputs": []
    },
    {
      "cell_type": "markdown",
      "metadata": {
        "id": "46e9PgOfMuyG"
      },
      "source": [
        "### 18. Faça um programa que criptografe cada palavra de uma frase, substituindo por ? a última metade de  seus caracteres.\n",
        "\n",
        "Exemplo:\n",
        "\n",
        "A aula é boa mas poderia ser mais curta.\n",
        "\n",
        "? au?? ? b?? m?? pod???? s?? ma?? cu???. "
      ]
    },
    {
      "cell_type": "code",
      "metadata": {
        "id": "4kpf12skMuyG"
      },
      "source": [
        "# Digite seu código aqui."
      ],
      "execution_count": null,
      "outputs": []
    },
    {
      "cell_type": "markdown",
      "metadata": {
        "id": "KK75bMmsMuyH"
      },
      "source": [
        "### 19. Faça um programa que receba uma frase e faça a criptografia dela, substituindo as vogais pelos seguintes  números: a = 1, e = 2, i = 3, o = 4 e u = 5."
      ]
    },
    {
      "cell_type": "code",
      "metadata": {
        "id": "SYCJxRI-MuyI"
      },
      "source": [
        "# Digite seu código aqui."
      ],
      "execution_count": null,
      "outputs": []
    },
    {
      "cell_type": "markdown",
      "metadata": {
        "id": "GW4L2VGlMuyK"
      },
      "source": [
        "### 20. Faça um programa que receba uma frase e faça a criptografia dela, utilizando a representação ASCII de cada caractere mais um espaço, e depois proceda à sua descriptografia. "
      ]
    },
    {
      "cell_type": "code",
      "metadata": {
        "id": "MYN4MlymMuyK"
      },
      "source": [
        "# Digite seu código aqui."
      ],
      "execution_count": null,
      "outputs": []
    },
    {
      "cell_type": "markdown",
      "metadata": {
        "id": "WYolRe69MuyM"
      },
      "source": [
        "### 21. Faça um programa que receba uma frase e realize a criptografia dela, trocando a primeira e a última  palavra de lugar. \n",
        "\n",
        "Exemplo:\n",
        "\n",
        "Frase: ESTRELAS E LUA ESTÃO NO CÉU\n",
        "\n",
        "Saída: CÉU E LUA ESTÃO NO ESTRELAS"
      ]
    },
    {
      "cell_type": "code",
      "metadata": {
        "id": "WYF5kzgKMuyM"
      },
      "source": [
        "# Digite seu código aqui."
      ],
      "execution_count": null,
      "outputs": []
    },
    {
      "cell_type": "markdown",
      "metadata": {
        "id": "9NwLCnR7MuyN"
      },
      "source": [
        "### 22. Considere uma string composta por várias subsequências, por exemplo, cccaaaabbbbxdddddddddaaannn. A menor subsequência é a da letra x, com apenas um elemento; a maior subsequência é a da letra d, com nove elementos. Faça um programa para ler uma string e mostrar qual é a letra que ocorre na  maior subsequência e o tamanho dessa subsequência.\n",
        "\n",
        "Exemplo:\n",
        "\n",
        "Entrada: aaabbbbaaa\n",
        "\n",
        "Saída: maior b, tamanho 4"
      ]
    },
    {
      "cell_type": "code",
      "metadata": {
        "id": "6HFPDsM_MuyN"
      },
      "source": [
        "# Digite seu código aqui."
      ],
      "execution_count": null,
      "outputs": []
    },
    {
      "cell_type": "markdown",
      "metadata": {
        "id": "PohlP6qmMuyQ"
      },
      "source": [
        "### 23. A busca por subcadeias dentro de grandes cadeias de caracteres é um problema clássico na computação,  especificamente em bancos de dados. Faça um programa que receba uma cadeia de caracteres e uma subcadeia, determine e mostre quantas vezes a subcadeia aparece dentro da cadeia.\n",
        "\n",
        "O tamanho da subcadeia obrigatoriamente deve ser menor que o da cadeia.\n",
        "\n",
        "Exemplos:\n",
        "\n",
        "Entradas:\n",
        "\n",
        "Cadeia = aaaassdffffghssiiii\n",
        "\n",
        "Subcadeia = ss\n",
        "\n",
        "Saída: a subcadeia aparece 2 vez(es) na cadeia\n",
        "\n",
        "Entradas:\n",
        "\n",
        "Cadeia = xxxxxaauuuyyyydrtsss\n",
        "\n",
        "Subcadeia = yydrts\n",
        "\n",
        "Saída: a subcadeia aparece 1 vez(es) na cadeia\n",
        "\n",
        "Entradas:\n",
        "\n",
        "Cadeia = fffffhuiojjjjkkkkkssjh\n",
        "\n",
        "Subcadeia = fdkjfdfjdiiiioooooopppppwwqertttesss\n",
        "\n",
        "Erro! Tamanho incorreto. Digite outra subcadeia.\n",
        "\n",
        "Subcadeia = dsh\n",
        "\n",
        "Saída: a subcadeia não está contida na cadeia.\n"
      ]
    },
    {
      "cell_type": "code",
      "metadata": {
        "id": "MYsznV2cMuyQ"
      },
      "source": [
        "# Digite seu código aqui."
      ],
      "execution_count": null,
      "outputs": []
    },
    {
      "cell_type": "markdown",
      "metadata": {
        "id": "VKibKB8iMuyR"
      },
      "source": [
        "### 24. Faça um programa que receba um verbo regular terminado em ER e mostre sua conjugação no presente.\n",
        "\n",
        "Exemplo:\n",
        "\n",
        "verbo: vender\n",
        "\n",
        "Eu vendo\n",
        "\n",
        "Tu vendes\n",
        "\n",
        "Ele vende\n",
        "\n",
        "Ela vende\n",
        "\n",
        "Nós vendemos\n",
        "\n",
        "Vós vendeis\n",
        "\n",
        "Eles vendem\n",
        "\n",
        "Elas vendem\n"
      ]
    },
    {
      "cell_type": "code",
      "metadata": {
        "id": "-lfpI6vgMuyS"
      },
      "source": [
        "# Digite seu código aqui."
      ],
      "execution_count": null,
      "outputs": []
    },
    {
      "cell_type": "markdown",
      "metadata": {
        "id": "QXWkeMyEMuyT"
      },
      "source": [
        "### 25. Faça um programa que receba uma frase e faça a criptografia, retirando das palavras suas vogais. O  programa deverá armazenar essas vogais e suas posições originais em vetores, mostrar a frase cripto\u0002grafada e posteriormente descriptografá-la"
      ]
    },
    {
      "cell_type": "code",
      "metadata": {
        "id": "tQ39My-IMuyV"
      },
      "source": [
        "# Digite seu código aqui."
      ],
      "execution_count": null,
      "outputs": []
    },
    {
      "cell_type": "markdown",
      "metadata": {
        "id": "f1tJOF_UGB5a"
      },
      "source": [
        "# LISTA 06 - FUNÇÕES"
      ]
    },
    {
      "cell_type": "markdown",
      "metadata": {
        "id": "A3940ao0MzAa"
      },
      "source": [
        "### 1. Faça uma sub-rotina que receba um número inteiro e positivo N como parâmetro e retorne a soma dos números inteiros existentes entre o número 1 e N (inclusive).\n"
      ]
    },
    {
      "cell_type": "code",
      "metadata": {
        "id": "oi0mbQByMzAb"
      },
      "source": [
        "# Digite seu código aqui."
      ],
      "execution_count": null,
      "outputs": []
    },
    {
      "cell_type": "markdown",
      "metadata": {
        "id": "afxJovMlMzAc"
      },
      "source": [
        "### 2. Crie uma sub-rotina que receba três números inteiros como parâmetros, representando horas, minutos e se\u0002gundos, e os converta em segundos. Exemplo: 2h, 40min e 10s correspondem a 9.610 segundos."
      ]
    },
    {
      "cell_type": "code",
      "metadata": {
        "id": "sHguBD7iMzAc"
      },
      "source": [
        "# Digite seu código aqui."
      ],
      "execution_count": null,
      "outputs": []
    },
    {
      "cell_type": "markdown",
      "metadata": {
        "id": "uem4GWKEMzAe"
      },
      "source": [
        "### 3. Elabore uma sub-rotina que receba dois números como parâmetros e retorne 0, se o primeiro número for  divisível pelo segundo número. Caso contrário, deverá retornar o próximo divisor. "
      ]
    },
    {
      "cell_type": "code",
      "metadata": {
        "id": "Ii1BLMjZMzAf"
      },
      "source": [
        "# Digite seu código aqui."
      ],
      "execution_count": null,
      "outputs": []
    },
    {
      "cell_type": "markdown",
      "metadata": {
        "id": "Y3tQS_j3MzAh"
      },
      "source": [
        "### 4. Faça uma sub-rotina que receba como parâmetro o raio de uma esfera, calcule e mostre no programa principal  o seu volume"
      ]
    },
    {
      "cell_type": "code",
      "metadata": {
        "id": "it_8wA-OMzAh"
      },
      "source": [
        "# Digite seu código aqui."
      ],
      "execution_count": null,
      "outputs": []
    },
    {
      "cell_type": "markdown",
      "metadata": {
        "id": "V2dmf-cuMzAj"
      },
      "source": [
        "### 5. Faça uma sub-rotina que receba um valor inteiro e verifique se ele é positivo ou negativo. "
      ]
    },
    {
      "cell_type": "code",
      "metadata": {
        "id": "gLYhA0SlMzAj"
      },
      "source": [
        "# Digite seu código aqui."
      ],
      "execution_count": null,
      "outputs": []
    },
    {
      "cell_type": "markdown",
      "metadata": {
        "id": "pFTpH9euMzAm"
      },
      "source": [
        "### 6. Crie uma sub-rotina que receba como parâmetro a altura (alt) e o sexo de uma pessoa e retorne seu peso ideal.  Para homens, deverá calcular o peso ideal usando a fórmula: peso ideal = 72.7 \\*altura − 58; para mulheres: peso  ideal = 62.1 \\* altura − 44.7."
      ]
    },
    {
      "cell_type": "code",
      "metadata": {
        "id": "hzOvZjoLMzAn"
      },
      "source": [
        "# Digite seu código aqui."
      ],
      "execution_count": null,
      "outputs": []
    },
    {
      "cell_type": "markdown",
      "metadata": {
        "id": "GWWdeJMHMzAr"
      },
      "source": [
        "### 7. Elabore uma sub-rotina que leia um número não determinado de valores positivos e retorne a média aritmé\u0002tica desses valores. Terminar a entrada de dados com o valor zero."
      ]
    },
    {
      "cell_type": "code",
      "metadata": {
        "id": "4cWgOkv_MzAs"
      },
      "source": [
        "# Digite seu código aqui."
      ],
      "execution_count": null,
      "outputs": []
    },
    {
      "cell_type": "markdown",
      "metadata": {
        "id": "if3gItkgMzAt"
      },
      "source": [
        "### 8. Faça uma sub-rotina que receba um valor inteiro e positivo, calcule e mostre seu fatorial. "
      ]
    },
    {
      "cell_type": "code",
      "metadata": {
        "id": "k1ALSCNaMzAt"
      },
      "source": [
        "# Digite seu código aqui."
      ],
      "execution_count": null,
      "outputs": []
    },
    {
      "cell_type": "markdown",
      "metadata": {
        "id": "YkLHSdghMzAw"
      },
      "source": [
        "### 9. Crie uma sub-rotina que receba como parâmetro um valor inteiro e positivo e retorne a soma dos divisores  desse valor"
      ]
    },
    {
      "cell_type": "code",
      "metadata": {
        "id": "iChnwt4EMzAw"
      },
      "source": [
        "# Digite seu código aqui."
      ],
      "execution_count": null,
      "outputs": []
    },
    {
      "cell_type": "markdown",
      "metadata": {
        "id": "k8Lt301vMzAx"
      },
      "source": [
        "### 10. Elabore uma sub-rotina que receba como parâmetro um valor N (inteiro e maior ou igual a 1) e determi\u0002ne o valor da sequência S, descrita a seguir:\n",
        "\n",
        "S = 1 + 1/2 + 1/3... \n",
        "\n",
        "A quantidade de parcelas que compõe S é igual a N."
      ]
    },
    {
      "cell_type": "code",
      "metadata": {
        "id": "lDPG_73SMzAy"
      },
      "source": [
        "# Digite seu código aqui."
      ],
      "execution_count": null,
      "outputs": []
    },
    {
      "cell_type": "markdown",
      "metadata": {
        "id": "L1rx0JhaMzA0"
      },
      "source": [
        "### 11. Faça uma sub-rotina que receba como parâmetro um valor inteiro e positivo N, indicando a quantidade de parcelas de uma soma S, calculada pela fórmula:"
      ]
    },
    {
      "cell_type": "code",
      "metadata": {
        "id": "gvVbL8SkMzA0"
      },
      "source": [
        "# Digite seu código aqui."
      ],
      "execution_count": null,
      "outputs": []
    },
    {
      "cell_type": "markdown",
      "metadata": {
        "id": "SgTUe39kMzA4"
      },
      "source": [
        "### 12. Crie uma sub-rotina que receba como parâmetro dois valores X e Z, calcule e retorne X elevado a Z sem utilizar  funções ou operadores de potência prontos."
      ]
    },
    {
      "cell_type": "code",
      "metadata": {
        "id": "9dUBByZqMzA5"
      },
      "source": [
        "# Digite seu código aqui."
      ],
      "execution_count": null,
      "outputs": []
    },
    {
      "cell_type": "markdown",
      "metadata": {
        "id": "gzrJBcXrMzA7"
      },
      "source": [
        "### 13. Foi realizada uma pesquisa entre 15 habitantes de uma região. Os dados coletados de cada habitante  foram: idade, sexo, salário e número de filhos.\n",
        "\n",
        "Faça uma sub-rotina que leia esses dados armazenando-os em vetores. Depois, crie sub-rotinas que  recebam esses vetores como parâmetro e retornem a média de salário entre os habitantes, a menor e a  maior idade do grupo e a quantidade de mulheres com três filhos que recebem até R\\$ 500,00 (utilize uma sub-rotina para cada cálculo)."
      ]
    },
    {
      "cell_type": "code",
      "metadata": {
        "id": "ztEJClWhMzA9"
      },
      "source": [
        "# Digite seu código aqui."
      ],
      "execution_count": null,
      "outputs": []
    },
    {
      "cell_type": "markdown",
      "metadata": {
        "id": "1xQsTjpuMzBB"
      },
      "source": [
        "### 14. Faça uma sub-rotina que receba um vetor X de 30 elementos inteiros como parâmetro e retorne dois  vetores A e B. O vetor A deve conter os elementos de X que sejam maiores que zero e o vetor B, os ele\u0002mentos menores ou iguais a zero. "
      ]
    },
    {
      "cell_type": "code",
      "metadata": {
        "id": "OIV5S2gmMzBC"
      },
      "source": [
        "# Digite seu código aqui."
      ],
      "execution_count": null,
      "outputs": []
    },
    {
      "cell_type": "markdown",
      "metadata": {
        "id": "-2SWvhZnMzBE"
      },
      "source": [
        "### 15. Elabore uma sub-rotina que receba um vetor X de 15 números inteiros como parâmetro e retorne a  quantidade de valores pares em X."
      ]
    },
    {
      "cell_type": "code",
      "metadata": {
        "id": "MMXzaO4sMzBE"
      },
      "source": [
        "# Digite seu código aqui."
      ],
      "execution_count": null,
      "outputs": []
    },
    {
      "cell_type": "markdown",
      "metadata": {
        "id": "UWuS0Wg_MzBI"
      },
      "source": [
        "### 16. Faça uma sub-rotina que receba um vetor X de 20 de números reais como parâmetro e retorne a soma  dos elementos de X."
      ]
    },
    {
      "cell_type": "code",
      "metadata": {
        "id": "zsUNA59MMzBI"
      },
      "source": [
        "# Digite seu código aqui."
      ],
      "execution_count": null,
      "outputs": []
    },
    {
      "cell_type": "markdown",
      "metadata": {
        "id": "yTF_E3voMzBK"
      },
      "source": [
        "### 17. Elabore uma sub-rotina que calcule o máximo divisor comum (MDC) de dois números recebidos como parâmetros."
      ]
    },
    {
      "cell_type": "code",
      "metadata": {
        "id": "jGt-lu08MzBL"
      },
      "source": [
        "# Digite seu código aqui."
      ],
      "execution_count": null,
      "outputs": []
    },
    {
      "cell_type": "markdown",
      "metadata": {
        "id": "zwaQ9Jx7MzBP"
      },
      "source": [
        "### 18. Crie uma sub-rotina que gere e mostre os três primeiros números primos acima de 100. "
      ]
    },
    {
      "cell_type": "code",
      "metadata": {
        "id": "jautLa-wMzBP"
      },
      "source": [
        "# Digite seu código aqui."
      ],
      "execution_count": null,
      "outputs": []
    },
    {
      "cell_type": "markdown",
      "metadata": {
        "id": "eMxI5RV_MzBR"
      },
      "source": [
        "### 19. Faça uma sub-rotina que receba como parâmetro dois vetores de dez números inteiros, determine e mos\u0002tre o vetor intersecção entre eles"
      ]
    },
    {
      "cell_type": "code",
      "metadata": {
        "id": "0Vbq1A-4MzBR"
      },
      "source": [
        "# Digite seu código aqui."
      ],
      "execution_count": null,
      "outputs": []
    },
    {
      "cell_type": "markdown",
      "metadata": {
        "id": "xAgeZ-KUMzBT"
      },
      "source": [
        "### 20. A prefeitura de uma cidade fez uma pesquisa entre seus habitantes, coletando dados sobre o salário e o  número de filhos. Faça uma sub-rotina que leia esses dados para um número não determinado de pessoas e retorne a média de salário da população, a média do número de filhos, o maior salário e o percentual  de pessoas com salário inferior a R\\$ 380,00."
      ]
    },
    {
      "cell_type": "code",
      "metadata": {
        "id": "kApUWhKoMzBT"
      },
      "source": [
        "# Digite seu código aqui."
      ],
      "execution_count": null,
      "outputs": []
    },
    {
      "cell_type": "markdown",
      "metadata": {
        "id": "3PJcDzOZMzBV"
      },
      "source": [
        "### 21. Faça uma sub-rotina que receba uma matriz 10X10 e determine o maior elemento acima da diagonal  principal. Esse valor deverá ser mostrado no programa principal."
      ]
    },
    {
      "cell_type": "code",
      "metadata": {
        "id": "H6r7tIutMzBW"
      },
      "source": [
        "# Digite seu código aqui."
      ],
      "execution_count": null,
      "outputs": []
    },
    {
      "cell_type": "markdown",
      "metadata": {
        "id": "r_J8hTIEMzBX"
      },
      "source": [
        "### 22. Criar um programa que: \n",
        "\n",
        "-  utilize uma sub-rotina para receber os elementos de uma matriz 10X5 de números reais; \n",
        "-  utilize uma sub-rotina para calcular a soma de todos os elementos localizados abaixo da sexta linha  dessa matriz;\n",
        "\n",
        "Os resultados deverão ser mostrados no programa principal"
      ]
    },
    {
      "cell_type": "code",
      "metadata": {
        "id": "4oaL1-XeMzBY"
      },
      "source": [
        "# Digite seu código aqui."
      ],
      "execution_count": null,
      "outputs": []
    },
    {
      "cell_type": "markdown",
      "metadata": {
        "id": "lDDok_q-MzBZ"
      },
      "source": [
        "### 23. Crie um programa que receba três valores (obrigatoriamente maiores que zero), representando as medi\u0002das dos três lados de um triângulo.\n",
        "\n",
        "Elabore sub-rotinas para:\n",
        "\n",
        "- determinar se esses lados formam um triângulo (sabe-se que, para ser triângulo, a medida de um \n",
        "lado qualquer deve ser inferior ou igual à soma das medidas dos outros dois). \n",
        "\n",
        "- determinar e mostrar o tipo de triângulo (equilátero, isósceles ou escaleno), caso as medidas for\u0002mem um triângulo. \n",
        "\n",
        "Todas as mensagens deverão ser mostradas no programa principal."
      ]
    },
    {
      "cell_type": "code",
      "metadata": {
        "id": "YskvOfv5MzBa"
      },
      "source": [
        "# Digite seu código aqui."
      ],
      "execution_count": null,
      "outputs": []
    },
    {
      "cell_type": "markdown",
      "metadata": {
        "id": "wy2ALdu9MzBa"
      },
      "source": [
        "### 24. Faça um programa que receba a temperatura média de cada mês do ano e armazene-as em um vetor. O programa deverá calcular e mostrar a maior e a menor temperatura do ano, junto com o mês em que elas  ocorreram (o mês deverá ser mostrado por extenso: 1 = janeiro; 2 = fevereiro; ...).\n",
        "\n",
        "Não se preocupe com empates. Cada cálculo deve ser realizado e mostrado em uma sub-rotina."
      ]
    },
    {
      "cell_type": "code",
      "metadata": {
        "id": "8GmHAjveMzBa"
      },
      "source": [
        "# Digite seu código aqui."
      ],
      "execution_count": null,
      "outputs": []
    },
    {
      "cell_type": "markdown",
      "metadata": {
        "id": "_6XDai4KMzBc"
      },
      "source": [
        "### 25. Crie um programa que receba o número dos 10 alunos de uma sala, armazenando-os em um vetor, junto com as notas obtidas ao longo do semestre (foram realizadas quatro avaliações).\n",
        "\n",
        "Elabore sub-rotinas para:\n",
        "\n",
        "- determinar e mostrar a média aritmética de todos os alunos; \n",
        "- indicar os números dos alunos que deverão fazer recuperação, ou seja, aqueles com média inferior a 6. \n",
        "\n",
        "Todas as mensagens deverão ser mostradas no programa principal"
      ]
    },
    {
      "cell_type": "markdown",
      "metadata": {
        "id": "Au7p3xOxi4Vy"
      },
      "source": [
        "# REFERÊNCIAS\n",
        "\n",
        "Fundamentos da programação de computadores. Pearson Educación, 2008ASCENCIO, Ana Fernanda Gomes; DE CAMPOS, Edilene Aparecida Veneruchi."
      ]
    }
  ]
}